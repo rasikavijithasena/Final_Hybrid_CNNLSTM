{
 "cells": [
  {
   "cell_type": "code",
   "execution_count": 1,
   "metadata": {},
   "outputs": [],
   "source": [
    "import pandas as pd\n",
    "from datetime import datetime\n",
    "import time\n",
    "import numpy as np\n",
    "import pandas as pd\n",
    "import io"
   ]
  },
  {
   "cell_type": "code",
   "execution_count": 2,
   "metadata": {},
   "outputs": [],
   "source": [
    "df = pd.read_csv('mcd_merge.csv')\n",
    "# Inspect the data\n",
    "\n",
    "df['Date'] = df['Datetime'].str[:-6]\n",
    "df['Date']=pd.to_datetime(df[\"Date\"]).dt.strftime(\"%Y-%m-%d %H:%M:%S\")"
   ]
  },
  {
   "cell_type": "code",
   "execution_count": 3,
   "metadata": {},
   "outputs": [],
   "source": [
    "data_date = df.filter(['Date'])\n",
    "\n",
    "data_date = data_date.values\n",
    "# Get the number of rows to train the model on\n",
    "training_data_date = int(np.ceil( len(data_date) * .95 ))\n",
    "train_data_date = data_date[0:int(training_data_date), :]"
   ]
  },
  {
   "cell_type": "code",
   "execution_count": 4,
   "metadata": {},
   "outputs": [],
   "source": [
    "import tensorflow.keras.layers\n",
    "from tensorflow.keras.models import Sequential\n",
    "from tensorflow.keras.layers import Dense, LSTM\n",
    "from tensorflow.keras.optimizers import Adam\n",
    "from tensorflow.keras.layers import Conv1D\n",
    "from tensorflow.keras.layers import MaxPooling1D\n",
    "from tensorflow.keras.layers import Bidirectional\n",
    "from tensorflow.keras.layers import Dense, Input, Embedding, Dropout, Activation, Conv1D\n",
    "from tensorflow.keras.layers import Dense, Input, RNN\n",
    "from tensorflow.keras.models import Model, Sequential, load_model\n",
    "from tensorflow.keras import backend as K\n",
    "from tensorflow.keras.optimizers import Adam\n",
    "\n",
    "import math\n",
    "from sklearn.preprocessing import MinMaxScaler\n",
    "from sklearn.metrics import mean_squared_error"
   ]
  },
  {
   "cell_type": "code",
   "execution_count": 5,
   "metadata": {},
   "outputs": [],
   "source": [
    "#from tf.compat.v1.nn.rnn_cell import FastGRNNCellKeras, FastRNNCellKeras"
   ]
  },
  {
   "cell_type": "code",
   "execution_count": 5,
   "metadata": {},
   "outputs": [
    {
     "name": "stdout",
     "output_type": "stream",
     "text": [
      "2.8.0\n"
     ]
    }
   ],
   "source": [
    "\n",
    "import tensorflow as tf\n",
    "print(tf.__version__)"
   ]
  },
  {
   "cell_type": "code",
   "execution_count": 6,
   "metadata": {},
   "outputs": [
    {
     "name": "stdout",
     "output_type": "stream",
     "text": [
      "Datetime     0\n",
      "Open         0\n",
      "High         0\n",
      "Low          0\n",
      "Close        0\n",
      "Adj Close    0\n",
      "Volume       0\n",
      "Date         0\n",
      "dtype: int64\n"
     ]
    }
   ],
   "source": [
    "data = pd.DataFrame()\n",
    "data['Close']=df['Close']\n",
    "count_nan = len(df) - df.count()\n",
    "print(count_nan)"
   ]
  },
  {
   "cell_type": "code",
   "execution_count": 7,
   "metadata": {},
   "outputs": [],
   "source": [
    "#Converting the dataframe to a numpy array\n",
    "dataset = data.values\n",
    "#Get /Compute the number of rows to train the model on\n",
    "# training_data_len = math.ceil( len(dataset) *.6)\n",
    "training_data_len = math.ceil( len(dataset)*.95) \n",
    "\n",
    "\n",
    "#Scale the all of the data to be values between 0 and 1 \n",
    "scaler = MinMaxScaler(feature_range=(0, 1)) \n",
    "scaled_data = scaler.fit_transform(dataset)\n",
    "\n",
    "\n",
    "#Create the scaled training data set \n",
    "train_data = scaled_data[0:training_data_len  , : ]\n",
    "#Split the data into x_train and y_train data sets\n",
    "x_train=[]\n",
    "y_train = []\n",
    "for i in range(60,len(train_data)):\n",
    "    x_train.append(train_data[i-60:i,0])\n",
    "    y_train.append(train_data[i,0])\n",
    "\n",
    "\n",
    "#Convert x_train and y_train to numpy arrays\n",
    "x_train, y_train = np.array(x_train), np.array(y_train)    \n",
    "\n",
    "\n",
    "#Reshape the data into the shape accepted by the LSTM\n",
    "x_train = np.reshape(x_train, (x_train.shape[0],x_train.shape[1],1))"
   ]
  },
  {
   "cell_type": "code",
   "execution_count": 8,
   "metadata": {},
   "outputs": [],
   "source": [
    "#Test data set\n",
    "test_data = scaled_data[training_data_len - 60: , : ]\n",
    "#Create the x_test and y_test data sets\n",
    "x_test = []\n",
    "y_test =  dataset[training_data_len : , : ] \n",
    "for i in range(60,len(test_data)):\n",
    "    x_test.append(test_data[i-60:i,0])\n",
    "\n",
    "\n",
    "\n",
    "#Convert x_test to a numpy array \n",
    "x_test = np.array(x_test)\n",
    "\n",
    "#Reshape the data into the shape accepted by the LSTM\n",
    "x_test = np.reshape(x_test, (x_test.shape[0],x_test.shape[1],1))"
   ]
  },
  {
   "cell_type": "code",
   "execution_count": 9,
   "metadata": {},
   "outputs": [],
   "source": [
    "dataDimension = int(x_train.shape[1]) "
   ]
  },
  {
   "cell_type": "code",
   "execution_count": 10,
   "metadata": {},
   "outputs": [
    {
     "data": {
      "text/plain": [
       "True"
      ]
     },
     "execution_count": 10,
     "metadata": {},
     "output_type": "execute_result"
    }
   ],
   "source": [
    "cell = \"FastRNN\" \n",
    " \n",
    "inputDims = 1 #features taken in by RNN in one timestep\n",
    "hiddenDims = 50 #hidden state of RNN\n",
    " \n",
    "totalEpochs = 8\n",
    "batchSize = 64\n",
    " \n",
    "learningRate = 0.001 \n",
    "decayStep = 50\n",
    "decayRate = 0.1\n",
    " \n",
    "outFile = None\n",
    " \n",
    "\n",
    "wRank = None \n",
    "uRank = None \n",
    " \n",
    "\n",
    "sW = 1.0 \n",
    "sU = 1.0\n",
    " \n",
    "#Non-linearities for the RNN architecture. Can choose from \"tanh, sigmoid, relu, quantTanh, quantSigm\"\n",
    "update_non_linearity = \"relu\"\n",
    "gate_non_linearity = \"relu\"\n",
    "\n",
    "\n",
    "cell == \"FastRNN\""
   ]
  },
  {
   "cell_type": "code",
   "execution_count": 11,
   "metadata": {},
   "outputs": [
    {
     "name": "stdout",
     "output_type": "stream",
     "text": [
      "(6601, 60, 1)\n",
      "(350, 60, 1)\n",
      "(6601, 60, 1)\n",
      "(350, 60, 1)\n"
     ]
    }
   ],
   "source": [
    "print(x_train.shape)\n",
    "x_train = np.reshape(x_train,[x_train.shape[0],x_train.shape[1],1])\n",
    "print(x_test.shape)\n",
    "x_test = np.reshape(x_test,[x_test.shape[0],x_test.shape[1],1])\n",
    "print(x_train.shape)\n",
    "print(x_test.shape)"
   ]
  },
  {
   "cell_type": "code",
   "execution_count": 12,
   "metadata": {},
   "outputs": [
    {
     "name": "stdout",
     "output_type": "stream",
     "text": [
      "Epoch 1/100\n",
      "104/104 [==============================] - 72s 382ms/step - loss: 0.0101\n",
      "Epoch 2/100\n",
      "104/104 [==============================] - 44s 421ms/step - loss: 4.8442e-04\n",
      "Epoch 3/100\n",
      "104/104 [==============================] - 54s 521ms/step - loss: 2.6895e-04\n",
      "Epoch 4/100\n",
      "104/104 [==============================] - 61s 583ms/step - loss: 2.4428e-04\n",
      "Epoch 5/100\n",
      "104/104 [==============================] - 49s 471ms/step - loss: 1.6924e-04\n",
      "Epoch 6/100\n",
      "104/104 [==============================] - 33s 310ms/step - loss: 1.4096e-04\n",
      "Epoch 7/100\n",
      "104/104 [==============================] - 41s 398ms/step - loss: 1.4312e-04\n",
      "Epoch 8/100\n",
      "104/104 [==============================] - 47s 453ms/step - loss: 1.2358e-04\n",
      "Epoch 9/100\n",
      "104/104 [==============================] - 48s 457ms/step - loss: 1.3401e-04\n",
      "Epoch 10/100\n",
      "104/104 [==============================] - 57s 556ms/step - loss: 1.2313e-04\n",
      "Epoch 11/100\n",
      "104/104 [==============================] - 52s 504ms/step - loss: 1.0705e-04\n",
      "Epoch 12/100\n",
      "104/104 [==============================] - 54s 520ms/step - loss: 1.0213e-04\n",
      "Epoch 13/100\n",
      "104/104 [==============================] - 47s 449ms/step - loss: 1.1516e-04\n",
      "Epoch 14/100\n",
      "104/104 [==============================] - 60s 570ms/step - loss: 1.0220e-04\n",
      "Epoch 15/100\n",
      "104/104 [==============================] - 65s 621ms/step - loss: 1.1506e-04\n",
      "Epoch 16/100\n",
      "104/104 [==============================] - 60s 580ms/step - loss: 9.7330e-05\n",
      "Epoch 17/100\n",
      "104/104 [==============================] - 68s 661ms/step - loss: 9.3335e-05\n",
      "Epoch 18/100\n",
      "104/104 [==============================] - 62s 593ms/step - loss: 9.8075e-05\n",
      "Epoch 19/100\n",
      "104/104 [==============================] - 58s 560ms/step - loss: 1.0045e-04\n",
      "Epoch 20/100\n",
      "104/104 [==============================] - 51s 492ms/step - loss: 9.7612e-05\n",
      "Epoch 21/100\n",
      "104/104 [==============================] - 55s 527ms/step - loss: 1.2655e-04\n",
      "Epoch 22/100\n",
      "104/104 [==============================] - 49s 475ms/step - loss: 1.4817e-04\n",
      "Epoch 23/100\n",
      "104/104 [==============================] - 46s 442ms/step - loss: 9.0283e-05\n",
      "Epoch 24/100\n",
      "104/104 [==============================] - 57s 548ms/step - loss: 8.8490e-05\n",
      "Epoch 25/100\n",
      "104/104 [==============================] - 62s 591ms/step - loss: 1.1867e-04\n",
      "Epoch 26/100\n",
      "104/104 [==============================] - 70s 675ms/step - loss: 9.5333e-05\n",
      "Epoch 27/100\n",
      "104/104 [==============================] - 65s 626ms/step - loss: 9.1577e-05\n",
      "Epoch 28/100\n",
      "104/104 [==============================] - 71s 678ms/step - loss: 1.0181e-04\n",
      "Epoch 29/100\n",
      "104/104 [==============================] - 66s 633ms/step - loss: 9.1796e-05\n",
      "Epoch 30/100\n",
      "104/104 [==============================] - 73s 697ms/step - loss: 9.1287e-05\n",
      "Epoch 31/100\n",
      "104/104 [==============================] - 70s 669ms/step - loss: 1.2358e-04\n",
      "Epoch 32/100\n",
      "104/104 [==============================] - 66s 643ms/step - loss: 9.6149e-05\n",
      "Epoch 33/100\n",
      "104/104 [==============================] - 67s 645ms/step - loss: 9.2971e-05\n",
      "Epoch 34/100\n",
      "104/104 [==============================] - 56s 540ms/step - loss: 1.1310e-04\n",
      "Epoch 35/100\n",
      "104/104 [==============================] - 52s 502ms/step - loss: 8.5815e-05\n",
      "Epoch 36/100\n",
      "104/104 [==============================] - 49s 478ms/step - loss: 9.9556e-05\n",
      "Epoch 37/100\n",
      "104/104 [==============================] - 53s 509ms/step - loss: 8.7030e-05\n",
      "Epoch 38/100\n",
      "104/104 [==============================] - 40s 387ms/step - loss: 1.0639e-04\n",
      "Epoch 39/100\n",
      "104/104 [==============================] - 49s 478ms/step - loss: 8.0843e-05\n",
      "Epoch 40/100\n",
      "104/104 [==============================] - 51s 493ms/step - loss: 8.2652e-05\n",
      "Epoch 41/100\n",
      "104/104 [==============================] - 39s 373ms/step - loss: 1.0126e-04\n",
      "Epoch 42/100\n",
      "104/104 [==============================] - 44s 423ms/step - loss: 9.6294e-05\n",
      "Epoch 43/100\n",
      "104/104 [==============================] - 42s 399ms/step - loss: 9.1072e-05\n",
      "Epoch 44/100\n",
      "104/104 [==============================] - 39s 373ms/step - loss: 8.3919e-05\n",
      "Epoch 45/100\n",
      "104/104 [==============================] - 43s 411ms/step - loss: 9.9046e-05\n",
      "Epoch 46/100\n",
      "104/104 [==============================] - 46s 436ms/step - loss: 8.6337e-05\n",
      "Epoch 47/100\n",
      "104/104 [==============================] - 43s 414ms/step - loss: 8.1417e-05\n",
      "Epoch 48/100\n",
      "104/104 [==============================] - 38s 368ms/step - loss: 8.5239e-05\n",
      "Epoch 49/100\n",
      "104/104 [==============================] - 47s 458ms/step - loss: 9.9690e-05\n",
      "Epoch 50/100\n",
      "104/104 [==============================] - 43s 417ms/step - loss: 9.6492e-05\n",
      "Epoch 51/100\n",
      "104/104 [==============================] - 44s 423ms/step - loss: 1.0605e-04\n",
      "Epoch 52/100\n",
      "104/104 [==============================] - 40s 386ms/step - loss: 8.8312e-05\n",
      "Epoch 53/100\n",
      "104/104 [==============================] - 44s 420ms/step - loss: 9.3964e-05\n",
      "Epoch 54/100\n",
      "104/104 [==============================] - 44s 423ms/step - loss: 9.7173e-05\n",
      "Epoch 55/100\n",
      "104/104 [==============================] - 44s 418ms/step - loss: 7.7992e-05\n",
      "Epoch 56/100\n",
      "104/104 [==============================] - 43s 412ms/step - loss: 8.1083e-05\n",
      "Epoch 57/100\n",
      "104/104 [==============================] - 43s 414ms/step - loss: 8.7003e-05\n",
      "Epoch 58/100\n",
      "104/104 [==============================] - 1026s 10s/step - loss: 8.4757e-05\n",
      "Epoch 59/100\n",
      "104/104 [==============================] - 13s 126ms/step - loss: 9.1943e-05\n",
      "Epoch 60/100\n",
      "104/104 [==============================] - 14s 132ms/step - loss: 7.7430e-05\n",
      "Epoch 61/100\n",
      "104/104 [==============================] - 10s 94ms/step - loss: 9.1608e-05\n",
      "Epoch 62/100\n",
      "104/104 [==============================] - 16s 156ms/step - loss: 9.0468e-05\n",
      "Epoch 63/100\n",
      "104/104 [==============================] - 14s 131ms/step - loss: 8.4719e-05\n",
      "Epoch 64/100\n",
      "104/104 [==============================] - 13s 128ms/step - loss: 8.4036e-05\n",
      "Epoch 65/100\n",
      "104/104 [==============================] - 14s 137ms/step - loss: 8.8760e-05\n",
      "Epoch 66/100\n",
      "104/104 [==============================] - 15s 141ms/step - loss: 8.4241e-05\n",
      "Epoch 67/100\n",
      "104/104 [==============================] - 16s 156ms/step - loss: 1.2515e-04\n",
      "Epoch 68/100\n",
      "104/104 [==============================] - 18s 173ms/step - loss: 8.0205e-05\n",
      "Epoch 69/100\n",
      "104/104 [==============================] - 17s 160ms/step - loss: 8.6707e-05\n",
      "Epoch 70/100\n",
      "104/104 [==============================] - 14s 139ms/step - loss: 7.3332e-05\n",
      "Epoch 71/100\n",
      "104/104 [==============================] - 13s 126ms/step - loss: 7.7833e-05\n",
      "Epoch 72/100\n",
      "104/104 [==============================] - 11s 108ms/step - loss: 7.7314e-05\n",
      "Epoch 73/100\n",
      "104/104 [==============================] - 11s 107ms/step - loss: 7.5252e-05\n",
      "Epoch 74/100\n",
      "104/104 [==============================] - 13s 123ms/step - loss: 8.3311e-05\n",
      "Epoch 75/100\n",
      "104/104 [==============================] - 13s 124ms/step - loss: 8.8121e-05\n",
      "Epoch 76/100\n",
      "104/104 [==============================] - 12s 111ms/step - loss: 9.0323e-05\n",
      "Epoch 77/100\n",
      "104/104 [==============================] - 11s 104ms/step - loss: 9.1582e-05\n",
      "Epoch 78/100\n",
      "104/104 [==============================] - 13s 127ms/step - loss: 7.9082e-05\n",
      "Epoch 79/100\n",
      "104/104 [==============================] - 13s 123ms/step - loss: 7.7105e-05\n",
      "Epoch 80/100\n",
      "104/104 [==============================] - 13s 124ms/step - loss: 8.7162e-05\n",
      "Epoch 81/100\n",
      "104/104 [==============================] - 11s 101ms/step - loss: 1.0495e-04\n",
      "Epoch 82/100\n",
      "104/104 [==============================] - 17s 160ms/step - loss: 9.9214e-05\n",
      "Epoch 83/100\n",
      "104/104 [==============================] - 32s 310ms/step - loss: 9.7144e-05\n",
      "Epoch 84/100\n",
      "104/104 [==============================] - 43s 411ms/step - loss: 8.9667e-05\n",
      "Epoch 85/100\n",
      "104/104 [==============================] - 38s 362ms/step - loss: 7.6812e-05\n",
      "Epoch 86/100\n",
      "104/104 [==============================] - 36s 351ms/step - loss: 9.1568e-05\n",
      "Epoch 87/100\n",
      "104/104 [==============================] - 49s 474ms/step - loss: 9.5125e-05\n",
      "Epoch 88/100\n",
      "104/104 [==============================] - 51s 490ms/step - loss: 8.4758e-05\n",
      "Epoch 89/100\n",
      "104/104 [==============================] - 56s 536ms/step - loss: 7.3023e-05\n",
      "Epoch 90/100\n",
      "104/104 [==============================] - 51s 485ms/step - loss: 7.9274e-05\n",
      "Epoch 91/100\n",
      "104/104 [==============================] - 49s 474ms/step - loss: 7.6774e-05\n",
      "Epoch 92/100\n"
     ]
    },
    {
     "name": "stdout",
     "output_type": "stream",
     "text": [
      "104/104 [==============================] - 41s 393ms/step - loss: 8.7542e-05\n",
      "Epoch 93/100\n",
      "104/104 [==============================] - 32s 305ms/step - loss: 7.7480e-05\n",
      "Epoch 94/100\n",
      "104/104 [==============================] - 34s 330ms/step - loss: 8.0878e-05\n",
      "Epoch 95/100\n",
      "104/104 [==============================] - 38s 366ms/step - loss: 8.2138e-05\n",
      "Epoch 96/100\n",
      "104/104 [==============================] - 41s 392ms/step - loss: 7.1494e-05\n",
      "Epoch 97/100\n",
      "104/104 [==============================] - 40s 378ms/step - loss: 8.8895e-05\n",
      "Epoch 98/100\n",
      "104/104 [==============================] - 48s 461ms/step - loss: 7.4037e-05\n",
      "Epoch 99/100\n",
      "104/104 [==============================] - 49s 474ms/step - loss: 7.5230e-05\n",
      "Epoch 100/100\n",
      "104/104 [==============================] - 32s 307ms/step - loss: 8.4275e-05\n"
     ]
    },
    {
     "data": {
      "image/png": "[encoded data removed]",
      "text/plain": [
       "<Figure size 432x288 with 1 Axes>"
      ]
     },
     "metadata": {
      "needs_background": "light"
     },
     "output_type": "display_data"
    }
   ],
   "source": [
    "from keras.models import Sequential\n",
    "from keras.layers import Dense\n",
    "from keras.layers import SimpleRNN\n",
    "from keras.layers import Dropout\n",
    "import matplotlib.pyplot as plt\n",
    "\n",
    "#Initialize RNN:\n",
    "regressor = Sequential()\n",
    "\n",
    "#Adding the first RNN layer and some Dropout regularization\n",
    "regressor.add(SimpleRNN(units = 50, activation='tanh', return_sequences=True, input_shape= (x_train.shape[1],1)))\n",
    "regressor.add(Conv1D(filters=300, kernel_size=3 , padding='same', activation='relu', name='Conv1D'))\n",
    "regressor.add(MaxPooling1D(pool_size=1,name='MaxPooling1D'))\n",
    "\n",
    "\n",
    "#Adding the second RNN layer and some Dropout regularization\n",
    "regressor.add(Bidirectional(LSTM(units=50, return_sequences=False)))\n",
    "regressor.add(Dense(1))\n",
    "# Compile the model\n",
    "regressor.compile(optimizer='adam', loss='mean_squared_error')\n",
    "\n",
    "# Train the model\n",
    "history = regressor.fit(x_train, y_train, batch_size=64, epochs=100)\n",
    "\n",
    "\n",
    "# Get training and test loss histories\n",
    "training_loss = history.history['loss']\n",
    "# Create count of the number of epochs\n",
    "epoch_count = range(1, len(training_loss) + 1)\n",
    "\n",
    "# Visualize loss history\n",
    "plt.plot(epoch_count, training_loss, 'r--')\n",
    "plt.legend(['Training Loss'])\n",
    "plt.xlabel('Epoch')\n",
    "plt.ylabel('Loss')\n",
    "plt.show();"
   ]
  },
  {
   "cell_type": "code",
   "execution_count": 13,
   "metadata": {},
   "outputs": [
    {
     "data": {
      "text/plain": [
       "0.17250477192566624"
      ]
     },
     "execution_count": 13,
     "metadata": {},
     "output_type": "execute_result"
    }
   ],
   "source": [
    "# Get the models predicted price values \n",
    "predictions = regressor.predict(x_test)\n",
    "predictions = scaler.inverse_transform(predictions)\n",
    "\n",
    "# Get the root mean squared error (RMSE)\n",
    "rmse = np.sqrt(np.mean(((predictions - y_test) ** 2)))\n",
    "rmse\n"
   ]
  },
  {
   "cell_type": "code",
   "execution_count": 14,
   "metadata": {},
   "outputs": [
    {
     "name": "stderr",
     "output_type": "stream",
     "text": [
      "<ipython-input-14-ffc677cae395>:7: SettingWithCopyWarning: \n",
      "A value is trying to be set on a copy of a slice from a DataFrame.\n",
      "Try using .loc[row_indexer,col_indexer] = value instead\n",
      "\n",
      "See the caveats in the documentation: https://pandas.pydata.org/pandas-docs/stable/user_guide/indexing.html#returning-a-view-versus-a-copy\n",
      "  valid_3['Predictions'] = predictions\n"
     ]
    },
    {
     "data": {
      "text/plain": [
       "0.05095722261953176"
      ]
     },
     "execution_count": 14,
     "metadata": {},
     "output_type": "execute_result"
    }
   ],
   "source": [
    "def mape(actual, pred): \n",
    "    actual, pred = np.array(actual), np.array(pred)\n",
    "    return np.mean(np.abs((actual - pred) / actual)) * 100\n",
    "\n",
    "train = data[:training_data_len]\n",
    "valid_3 = data[training_data_len:]\n",
    "valid_3['Predictions'] = predictions\n",
    "\n",
    "mape(valid_3['Close'], valid_3['Predictions'])"
   ]
  },
  {
   "cell_type": "code",
   "execution_count": 15,
   "metadata": {},
   "outputs": [
    {
     "name": "stdout",
     "output_type": "stream",
     "text": [
      "Model: \"sequential\"\n",
      "_________________________________________________________________\n",
      " Layer (type)                Output Shape              Param #   \n",
      "=================================================================\n",
      " simple_rnn (SimpleRNN)      (None, 60, 50)            2600      \n",
      "                                                                 \n",
      " Conv1D (Conv1D)             (None, 60, 300)           45300     \n",
      "                                                                 \n",
      " MaxPooling1D (MaxPooling1D)  (None, 60, 300)          0         \n",
      "                                                                 \n",
      " bidirectional (Bidirectiona  (None, 100)              140400    \n",
      " l)                                                              \n",
      "                                                                 \n",
      " dense (Dense)               (None, 1)                 101       \n",
      "                                                                 \n",
      "=================================================================\n",
      "Total params: 188,401\n",
      "Trainable params: 188,401\n",
      "Non-trainable params: 0\n",
      "_________________________________________________________________\n"
     ]
    }
   ],
   "source": [
    "regressor.summary()"
   ]
  },
  {
   "cell_type": "code",
   "execution_count": 16,
   "metadata": {},
   "outputs": [
    {
     "data": {
      "image/png": "[encoded data removed]",
      "text/plain": [
       "<Figure size 1152x432 with 1 Axes>"
      ]
     },
     "metadata": {
      "needs_background": "light"
     },
     "output_type": "display_data"
    }
   ],
   "source": [
    "import matplotlib.pyplot as plt\n",
    "plt.figure(figsize=(16,6))\n",
    "plt.title('Predicted Model - Apple')\n",
    "plt.xlabel('Index', fontsize=18)\n",
    "plt.ylabel('Close Price ($)', fontsize=18)\n",
    "#plt.plot(train['Close'], 'b-', label = 'train')\n",
    "plt.plot(predictions,'r-', label = 'predict')\n",
    "plt.plot(y_test,'b-', label = 'actual')\n",
    "#plt.legend(['Train', 'Val', 'Predictions'], loc='lower right')\n",
    "plt.show()"
   ]
  },
  {
   "cell_type": "code",
   "execution_count": null,
   "metadata": {},
   "outputs": [],
   "source": []
  }
 ],
 "metadata": {
  "kernelspec": {
   "display_name": "Python 3",
   "language": "python",
   "name": "python3"
  },
  "language_info": {
   "codemirror_mode": {
    "name": "ipython",
    "version": 3
   },
   "file_extension": ".py",
   "mimetype": "text/x-python",
   "name": "python",
   "nbconvert_exporter": "python",
   "pygments_lexer": "ipython3",
   "version": "3.8.5"
  }
 },
 "nbformat": 4,
 "nbformat_minor": 4
}
