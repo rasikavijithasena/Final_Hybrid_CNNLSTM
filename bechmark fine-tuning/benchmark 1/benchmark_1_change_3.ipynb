{
 "cells": [
  {
   "cell_type": "code",
   "execution_count": 1,
   "metadata": {},
   "outputs": [],
   "source": [
    "import pandas as pd\n",
    "import numpy as np\n",
    "# Load local .csv file as DataFrame\n",
    "df = pd.read_csv('aapl_all_csv.csv')\n",
    "# Inspect the data\n",
    "\n",
    "df['Date'] = df['Datetime'].str[:-6]\n",
    "df['Date']=pd.to_datetime(df[\"Date\"]).dt.strftime(\"%Y-%m-%d %H:%M:%S\")\n",
    "\n",
    "data_date = df.filter(['Date'])\n",
    "\n",
    "data_date = data_date.values\n",
    "# Get the number of rows to train the model on\n",
    "training_data_date = int(np.ceil( len(data_date) * .95 ))\n",
    "\n",
    "from sklearn.preprocessing import MinMaxScaler\n",
    "\n",
    "#scaler1 = MinMaxScaler(feature_range=(0,1))\n",
    "#scaled_data1 = scaler1.fit_transform(data_date)\n",
    "# Create the training data set \n",
    "# Create the scaled training data set\n",
    "train_data_date = data_date[0:int(training_data_date), :]\n",
    "\n",
    "# Create a new dataframe with only the 'Close column \n",
    "data = df.filter(['Close'])\n",
    "# Convert the dataframe to a numpy array\n",
    "dataset = data.values\n",
    "# Get the number of rows to train the model on\n",
    "training_data_len = int(np.ceil( len(dataset) * .95 ))"
   ]
  },
  {
   "cell_type": "code",
   "execution_count": 2,
   "metadata": {},
   "outputs": [
    {
     "name": "stdout",
     "output_type": "stream",
     "text": [
      "[array([0.81304441, 0.81144125, 0.81464378, 0.81855352, 0.81982585,\n",
      "       0.81926453, 0.81677626, 0.81428854, 0.81392572, 0.81428854,\n",
      "       0.81215931, 0.81049595, 0.8085945 , 0.80895678, 0.80789053,\n",
      "       0.80639801, 0.80504378, 0.80735741, 0.80824631, 0.80789053,\n",
      "       0.80717953, 0.80966399, 0.80771319, 0.80824957, 0.80931256,\n",
      "       0.81073403, 0.81073403, 0.81108927, 0.8103788 , 0.81144505,\n",
      "       0.81091192, 0.81304441, 0.81375542, 0.8123334 , 0.8132223 ,\n",
      "       0.81251129, 0.81499901, 0.81215605, 0.81002302, 0.81073403,\n",
      "       0.81208826, 0.8103788 , 0.81128831, 0.8103788 , 0.8132223 ,\n",
      "       0.81251129, 0.81073403, 0.81002302, 0.80966779, 0.80966779,\n",
      "       0.80967159, 0.80860154, 0.80745015, 0.80522492, 0.80362556,\n",
      "       0.80433657, 0.80504703, 0.80504703, 0.80575805, 0.80611328])]\n",
      "[0.8091346667936978]\n",
      "\n",
      "[array([0.81304441, 0.81144125, 0.81464378, 0.81855352, 0.81982585,\n",
      "       0.81926453, 0.81677626, 0.81428854, 0.81392572, 0.81428854,\n",
      "       0.81215931, 0.81049595, 0.8085945 , 0.80895678, 0.80789053,\n",
      "       0.80639801, 0.80504378, 0.80735741, 0.80824631, 0.80789053,\n",
      "       0.80717953, 0.80966399, 0.80771319, 0.80824957, 0.80931256,\n",
      "       0.81073403, 0.81073403, 0.81108927, 0.8103788 , 0.81144505,\n",
      "       0.81091192, 0.81304441, 0.81375542, 0.8123334 , 0.8132223 ,\n",
      "       0.81251129, 0.81499901, 0.81215605, 0.81002302, 0.81073403,\n",
      "       0.81208826, 0.8103788 , 0.81128831, 0.8103788 , 0.8132223 ,\n",
      "       0.81251129, 0.81073403, 0.81002302, 0.80966779, 0.80966779,\n",
      "       0.80967159, 0.80860154, 0.80745015, 0.80522492, 0.80362556,\n",
      "       0.80433657, 0.80504703, 0.80504703, 0.80575805, 0.80611328]), array([0.81144125, 0.81464378, 0.81855352, 0.81982585, 0.81926453,\n",
      "       0.81677626, 0.81428854, 0.81392572, 0.81428854, 0.81215931,\n",
      "       0.81049595, 0.8085945 , 0.80895678, 0.80789053, 0.80639801,\n",
      "       0.80504378, 0.80735741, 0.80824631, 0.80789053, 0.80717953,\n",
      "       0.80966399, 0.80771319, 0.80824957, 0.80931256, 0.81073403,\n",
      "       0.81073403, 0.81108927, 0.8103788 , 0.81144505, 0.81091192,\n",
      "       0.81304441, 0.81375542, 0.8123334 , 0.8132223 , 0.81251129,\n",
      "       0.81499901, 0.81215605, 0.81002302, 0.81073403, 0.81208826,\n",
      "       0.8103788 , 0.81128831, 0.8103788 , 0.8132223 , 0.81251129,\n",
      "       0.81073403, 0.81002302, 0.80966779, 0.80966779, 0.80967159,\n",
      "       0.80860154, 0.80745015, 0.80522492, 0.80362556, 0.80433657,\n",
      "       0.80504703, 0.80504703, 0.80575805, 0.80611328, 0.80913467])]\n",
      "[0.8091346667936978, 0.8102009118928386]\n",
      "\n"
     ]
    }
   ],
   "source": [
    "from sklearn.preprocessing import MinMaxScaler\n",
    "\n",
    "scaler = MinMaxScaler(feature_range=(0,1))\n",
    "scaled_data = scaler.fit_transform(dataset)\n",
    "# Create the training data set \n",
    "# Create the scaled training data set\n",
    "train_data = scaled_data[0:int(training_data_len), :]\n",
    "# Split the data into x_train and y_train data sets\n",
    "x_train = []\n",
    "y_train = []\n",
    "\n",
    "for i in range(60, len(train_data)):\n",
    "    x_train.append(train_data[i-60:i, 0])\n",
    "    y_train.append(train_data[i, 0])\n",
    "    if i<= 61:\n",
    "        print(x_train)\n",
    "        print(y_train)\n",
    "        print()\n",
    "        \n",
    "# Convert the x_train and y_train to numpy arrays \n",
    "x_train, y_train = np.array(x_train), np.array(y_train)\n",
    "\n",
    "# Reshape the data\n",
    "x_train = np.reshape(x_train, (x_train.shape[0], x_train.shape[1], 1))"
   ]
  },
  {
   "cell_type": "code",
   "execution_count": 3,
   "metadata": {},
   "outputs": [],
   "source": [
    "def mape(actual, pred): \n",
    "    actual, pred = np.array(actual), np.array(pred)\n",
    "    return np.mean(np.abs((actual - pred) / actual)) * 100\n"
   ]
  },
  {
   "cell_type": "code",
   "execution_count": 4,
   "metadata": {},
   "outputs": [],
   "source": [
    "#cnn"
   ]
  },
  {
   "cell_type": "code",
   "execution_count": 5,
   "metadata": {},
   "outputs": [
    {
     "name": "stdout",
     "output_type": "stream",
     "text": [
      "Epoch 1/100\n",
      "792/792 [==============================] - 8s 8ms/step - loss: 0.0013\n",
      "Epoch 2/100\n",
      "792/792 [==============================] - 9s 12ms/step - loss: 2.5657e-04\n",
      "Epoch 3/100\n",
      "792/792 [==============================] - 7s 9ms/step - loss: 2.5210e-04\n",
      "Epoch 4/100\n",
      "792/792 [==============================] - 7s 9ms/step - loss: 1.8657e-04\n",
      "Epoch 5/100\n",
      "792/792 [==============================] - 7s 9ms/step - loss: 1.4466e-04\n",
      "Epoch 6/100\n",
      "792/792 [==============================] - 10s 12ms/step - loss: 1.6349e-04\n",
      "Epoch 7/100\n",
      "792/792 [==============================] - 7s 9ms/step - loss: 1.3962e-04\n",
      "Epoch 8/100\n",
      "792/792 [==============================] - 10s 12ms/step - loss: 1.6108e-04\n",
      "Epoch 9/100\n",
      "792/792 [==============================] - 8s 10ms/step - loss: 1.3599e-04\n",
      "Epoch 10/100\n",
      "792/792 [==============================] - 11s 14ms/step - loss: 1.3399e-04\n",
      "Epoch 11/100\n",
      "792/792 [==============================] - 9s 12ms/step - loss: 1.2372e-04\n",
      "Epoch 12/100\n",
      "792/792 [==============================] - 11s 14ms/step - loss: 1.3801e-04\n",
      "Epoch 13/100\n",
      "792/792 [==============================] - 11s 14ms/step - loss: 1.1749e-04\n",
      "Epoch 14/100\n",
      "792/792 [==============================] - 10s 13ms/step - loss: 1.1138e-04\n",
      "Epoch 15/100\n",
      "792/792 [==============================] - 9s 12ms/step - loss: 1.1847e-04\n",
      "Epoch 16/100\n",
      "792/792 [==============================] - 12s 15ms/step - loss: 1.0920e-04\n",
      "Epoch 17/100\n",
      "792/792 [==============================] - 9s 12ms/step - loss: 1.2069e-04\n",
      "Epoch 18/100\n",
      "792/792 [==============================] - 12s 16ms/step - loss: 1.1016e-04\n",
      "Epoch 19/100\n",
      "792/792 [==============================] - 12s 15ms/step - loss: 1.0328e-04\n",
      "Epoch 20/100\n",
      "792/792 [==============================] - 15s 19ms/step - loss: 1.0428e-04\n",
      "Epoch 28/100\n",
      "792/792 [==============================] - 14s 17ms/step - loss: 1.0177e-04\n",
      "Epoch 29/100\n",
      "792/792 [==============================] - 14s 17ms/step - loss: 9.9914e-05\n",
      "Epoch 30/100\n",
      "792/792 [==============================] - 15s 19ms/step - loss: 9.9717e-05\n",
      "Epoch 31/100\n",
      "792/792 [==============================] - 11s 14ms/step - loss: 1.0172e-04\n",
      "Epoch 37/100\n",
      "792/792 [==============================] - 13s 16ms/step - loss: 1.0595e-04\n",
      "Epoch 38/100\n",
      "792/792 [==============================] - 14s 18ms/step - loss: 1.0299e-04\n",
      "Epoch 39/100\n",
      "792/792 [==============================] - 16s 20ms/step - loss: 1.0026e-04\n",
      "Epoch 40/100\n",
      "792/792 [==============================] - 15s 19ms/step - loss: 9.7766e-05\n",
      "Epoch 41/100\n",
      "792/792 [==============================] - 16s 21ms/step - loss: 9.7090e-05\n",
      "Epoch 42/100\n",
      "792/792 [==============================] - 12s 15ms/step - loss: 9.6997e-05\n",
      "Epoch 43/100\n",
      "792/792 [==============================] - 16s 20ms/step - loss: 9.8813e-05\n",
      "Epoch 44/100\n",
      "792/792 [==============================] - 18s 22ms/step - loss: 9.2924e-05\n",
      "Epoch 45/100\n",
      "792/792 [==============================] - 16s 20ms/step - loss: 9.5267e-05\n",
      "Epoch 46/100\n",
      "792/792 [==============================] - 18s 23ms/step - loss: 9.3038e-05\n",
      "Epoch 53/100\n",
      "792/792 [==============================] - 18s 23ms/step - loss: 9.3919e-05\n",
      "Epoch 54/100\n",
      "792/792 [==============================] - 15s 19ms/step - loss: 9.1783e-05\n",
      "Epoch 55/100\n",
      "792/792 [==============================] - 16s 21ms/step - loss: 9.0540e-05\n",
      "Epoch 56/100\n",
      "792/792 [==============================] - 18s 22ms/step - loss: 9.2377e-05\n",
      "Epoch 57/100\n",
      "792/792 [==============================] - 16s 20ms/step - loss: 9.5233e-05\n",
      "Epoch 58/100\n",
      "792/792 [==============================] - 13s 16ms/step - loss: 9.7747e-05\n",
      "Epoch 59/100\n",
      "792/792 [==============================] - 17s 22ms/step - loss: 9.6832e-05\n",
      "Epoch 60/100\n",
      "792/792 [==============================] - 11s 14ms/step - loss: 9.4519e-05\n",
      "Epoch 61/100\n",
      "792/792 [==============================] - 13s 16ms/step - loss: 9.0029e-05\n",
      "Epoch 65/100\n",
      "792/792 [==============================] - 13s 17ms/step - loss: 9.1617e-05\n",
      "Epoch 66/100\n",
      "792/792 [==============================] - 10s 13ms/step - loss: 8.9303e-05\n",
      "Epoch 67/100\n",
      "792/792 [==============================] - 11s 13ms/step - loss: 9.2590e-05\n",
      "Epoch 68/100\n",
      "792/792 [==============================] - 12s 15ms/step - loss: 9.3374e-05\n",
      "Epoch 69/100\n",
      "792/792 [==============================] - 10s 13ms/step - loss: 8.9578e-05\n",
      "Epoch 70/100\n",
      "792/792 [==============================] - 5s 6ms/step - loss: 9.1332e-05\n",
      "Epoch 71/100\n",
      "792/792 [==============================] - 6s 8ms/step - loss: 9.3528e-05\n",
      "Epoch 72/100\n",
      "792/792 [==============================] - 5s 6ms/step - loss: 8.8738e-05\n",
      "Epoch 73/100\n",
      "792/792 [==============================] - 5s 6ms/step - loss: 8.9421e-05\n",
      "Epoch 74/100\n",
      "792/792 [==============================] - 6s 7ms/step - loss: 8.9612e-05\n",
      "Epoch 75/100\n",
      "792/792 [==============================] - 6s 8ms/step - loss: 8.9308e-05\n",
      "Epoch 76/100\n",
      "792/792 [==============================] - 6s 7ms/step - loss: 8.7896e-05\n",
      "Epoch 77/100\n",
      "792/792 [==============================] - 6s 7ms/step - loss: 9.1922e-05\n",
      "Epoch 78/100\n",
      "792/792 [==============================] - 4s 6ms/step - loss: 8.6430e-05\n",
      "Epoch 79/100\n",
      "792/792 [==============================] - 4s 6ms/step - loss: 8.8986e-05\n",
      "Epoch 80/100\n",
      "792/792 [==============================] - 4s 5ms/step - loss: 9.2222e-05\n",
      "Epoch 81/100\n",
      "792/792 [==============================] - 5s 7ms/step - loss: 8.8609e-05\n",
      "Epoch 82/100\n",
      "792/792 [==============================] - 4s 6ms/step - loss: 8.5879e-05\n",
      "Epoch 83/100\n",
      "792/792 [==============================] - 4s 5ms/step - loss: 8.9200e-05\n",
      "Epoch 84/100\n",
      "792/792 [==============================] - 5s 6ms/step - loss: 9.1063e-05\n",
      "Epoch 85/100\n",
      "792/792 [==============================] - 5s 6ms/step - loss: 8.6176e-05\n",
      "Epoch 86/100\n",
      "792/792 [==============================] - 4s 5ms/step - loss: 8.6475e-05\n",
      "Epoch 87/100\n",
      "792/792 [==============================] - 5s 7ms/step - loss: 8.8256e-05\n",
      "Epoch 88/100\n",
      "792/792 [==============================] - 7s 9ms/step - loss: 8.4792e-05\n",
      "Epoch 89/100\n",
      "792/792 [==============================] - 5s 7ms/step - loss: 8.7502e-05\n",
      "Epoch 90/100\n",
      "792/792 [==============================] - 6s 8ms/step - loss: 8.7881e-05\n",
      "Epoch 91/100\n",
      "792/792 [==============================] - 6s 7ms/step - loss: 9.0738e-05\n",
      "Epoch 92/100\n",
      "792/792 [==============================] - 6s 7ms/step - loss: 8.5599e-05\n",
      "Epoch 93/100\n",
      "792/792 [==============================] - 7s 9ms/step - loss: 9.2093e-05\n",
      "Epoch 94/100\n",
      "792/792 [==============================] - 5s 6ms/step - loss: 8.6954e-05\n",
      "Epoch 95/100\n",
      "792/792 [==============================] - 6s 8ms/step - loss: 8.6834e-05\n",
      "Epoch 96/100\n",
      "792/792 [==============================] - 8s 10ms/step - loss: 9.0506e-05\n",
      "Epoch 97/100\n",
      "792/792 [==============================] - 6s 7ms/step - loss: 8.9316e-05\n",
      "Epoch 98/100\n",
      "792/792 [==============================] - 10s 12ms/step - loss: 8.8657e-05\n",
      "Epoch 99/100\n",
      "792/792 [==============================] - 5s 6ms/step - loss: 8.3940e-05\n",
      "Epoch 100/100\n",
      "792/792 [==============================] - 7s 8ms/step - loss: 8.4123e-05\n"
     ]
    },
    {
     "data": {
      "image/png": "[encoded data removed]",
      "text/plain": [
       "<Figure size 432x288 with 1 Axes>"
      ]
     },
     "metadata": {
      "needs_background": "light"
     },
     "output_type": "display_data"
    }
   ],
   "source": [
    "from numpy import array\n",
    "from keras.models import Sequential\n",
    "from keras.layers import Dense\n",
    "from keras.layers import Flatten\n",
    "from keras.layers.convolutional import Conv1D\n",
    "from keras.layers.convolutional import MaxPooling1D\n",
    "import matplotlib.pyplot as plt\n",
    "\n",
    "model2 = Sequential()\n",
    "model2.add(Conv1D(filters=128, kernel_size=2, activation='relu', input_shape= (x_train.shape[1], 1)))\n",
    "model2.add(MaxPooling1D(pool_size=2))\n",
    "model2.add(Flatten())\n",
    "model2.add(Dense(100, activation='relu'))\n",
    "model2.add(Dense(1))\n",
    "model2.compile(optimizer='adam', loss='mse')\n",
    "# Train the model\n",
    "history = model2.fit(x_train, y_train, batch_size=16, epochs=100)\n",
    "\n",
    "# Get training and test loss histories\n",
    "training_loss = history.history['loss']\n",
    "# Create count of the number of epochs\n",
    "epoch_count = range(1, len(training_loss) + 1)\n",
    "\n",
    "# Visualize loss history\n",
    "plt.plot(epoch_count, training_loss, 'r--')\n",
    "plt.legend(['Training Loss'])\n",
    "plt.xlabel('Epoch')\n",
    "plt.ylabel('Loss')\n",
    "plt.show();"
   ]
  },
  {
   "cell_type": "code",
   "execution_count": 6,
   "metadata": {},
   "outputs": [
    {
     "data": {
      "text/plain": [
       "0.1822848397733238"
      ]
     },
     "execution_count": 6,
     "metadata": {},
     "output_type": "execute_result"
    }
   ],
   "source": [
    "test_data = scaled_data[training_data_len - 60: , :]\n",
    "# Create the data sets x_test and y_test\n",
    "x_test = []\n",
    "y_test = dataset[training_data_len:, :]\n",
    "for i in range(60, len(test_data)):\n",
    "    x_test.append(test_data[i-60:i, 0])\n",
    "    \n",
    "# Convert the data to a numpy array\n",
    "x_test = np.array(x_test)\n",
    "\n",
    "# Reshape the data\n",
    "x_test = np.reshape(x_test, (x_test.shape[0], x_test.shape[1], 1 ))\n",
    "\n",
    "# Get the models predicted price values \n",
    "predictions2 = model2.predict(x_test)\n",
    "predictions2 = scaler.inverse_transform(predictions2)\n",
    "\n",
    "# Get the root mean squared error (RMSE)\n",
    "rmse_2 = np.sqrt(np.mean(((predictions2 - y_test) ** 2)))\n",
    "rmse_2"
   ]
  },
  {
   "cell_type": "code",
   "execution_count": 7,
   "metadata": {},
   "outputs": [
    {
     "name": "stderr",
     "output_type": "stream",
     "text": [
      "<ipython-input-7-f46f1df8d4ee>:3: SettingWithCopyWarning: \n",
      "A value is trying to be set on a copy of a slice from a DataFrame.\n",
      "Try using .loc[row_indexer,col_indexer] = value instead\n",
      "\n",
      "See the caveats in the documentation: https://pandas.pydata.org/pandas-docs/stable/user_guide/indexing.html#returning-a-view-versus-a-copy\n",
      "  valid_2['Predictions2'] = predictions2\n"
     ]
    },
    {
     "data": {
      "text/plain": [
       "0.07809428408430683"
      ]
     },
     "execution_count": 7,
     "metadata": {},
     "output_type": "execute_result"
    }
   ],
   "source": [
    "train = data[:training_data_len]\n",
    "valid_2 = data[training_data_len:]\n",
    "valid_2['Predictions2'] = predictions2\n",
    "\n",
    "mape(valid_2['Close'], valid_2['Predictions2'])"
   ]
  },
  {
   "cell_type": "code",
   "execution_count": 8,
   "metadata": {},
   "outputs": [
    {
     "data": {
      "image/png": "[encoded data removed]",
      "text/plain": [
       "<Figure size 1152x432 with 1 Axes>"
      ]
     },
     "metadata": {
      "needs_background": "light"
     },
     "output_type": "display_data"
    }
   ],
   "source": [
    "import matplotlib.pyplot as plt\n",
    "plt.figure(figsize=(16,6))\n",
    "plt.title('Predicted Model - Google')\n",
    "plt.xlabel('Index', fontsize=18)\n",
    "plt.ylabel('Close Price ($)', fontsize=18)\n",
    "#plt.plot(train['Close'], 'b-', label = 'train')\n",
    "plt.plot(predictions2,'r-', label = 'predict')\n",
    "plt.plot(y_test,'b-', label = 'actual')\n",
    "#plt.legend(['Train', 'Val', 'Predictions'], loc='lower right')\n",
    "plt.show()"
   ]
  },
  {
   "cell_type": "code",
   "execution_count": null,
   "metadata": {},
   "outputs": [],
   "source": []
  }
 ],
 "metadata": {
  "kernelspec": {
   "display_name": "Python 3",
   "language": "python",
   "name": "python3"
  },
  "language_info": {
   "codemirror_mode": {
    "name": "ipython",
    "version": 3
   },
   "file_extension": ".py",
   "mimetype": "text/x-python",
   "name": "python",
   "nbconvert_exporter": "python",
   "pygments_lexer": "ipython3",
   "version": "3.8.5"
  }
 },
 "nbformat": 4,
 "nbformat_minor": 4
}
