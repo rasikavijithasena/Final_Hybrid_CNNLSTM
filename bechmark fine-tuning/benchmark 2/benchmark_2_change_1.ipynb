{
 "cells": [
  {
   "cell_type": "code",
   "execution_count": null,
   "metadata": {},
   "outputs": [],
   "source": [
    "#correct benchmark model"
   ]
  },
  {
   "cell_type": "code",
   "execution_count": 1,
   "metadata": {},
   "outputs": [],
   "source": [
    "import pandas as pd\n",
    "import numpy as np\n",
    "# Load local .csv file as DataFrame\n",
    "df = pd.read_csv('aapl_all_csv.csv')\n",
    "# Inspect the data\n",
    "df = df[:12000]\n",
    "\n",
    "df['Date'] = df['Datetime'].str[:-6]\n",
    "df['Date']=pd.to_datetime(df[\"Date\"]).dt.strftime(\"%Y-%m-%d %H:%M:%S\")\n",
    "\n",
    "data_date = df.filter(['Date'])\n",
    "\n",
    "data_date = data_date.values\n",
    "# Get the number of rows to train the model on\n",
    "training_data_date = int(np.ceil( len(data_date) * .95 ))\n",
    "\n",
    "from sklearn.preprocessing import MinMaxScaler\n",
    "\n",
    "#scaler1 = MinMaxScaler(feature_range=(0,1))\n",
    "#scaled_data1 = scaler1.fit_transform(data_date)\n",
    "# Create the training data set \n",
    "# Create the scaled training data set\n",
    "train_data_date = data_date[0:int(training_data_date), :]\n",
    "\n",
    "# Create a new dataframe with only the 'Close column \n",
    "data = df.filter(['Close'])\n",
    "# Convert the dataframe to a numpy array\n",
    "dataset = data.values\n",
    "# Get the number of rows to train the model on\n",
    "training_data_len = int(np.ceil( len(dataset) * .95 ))"
   ]
  },
  {
   "cell_type": "code",
   "execution_count": 2,
   "metadata": {},
   "outputs": [
    {
     "name": "stdout",
     "output_type": "stream",
     "text": [
      "[array([0.81304441, 0.81144125, 0.81464378, 0.81855352, 0.81982585])]\n",
      "[0.8192645319337108]\n",
      "\n",
      "[array([0.81304441, 0.81144125, 0.81464378, 0.81855352, 0.81982585]), array([0.81144125, 0.81464378, 0.81855352, 0.81982585, 0.81926453])]\n",
      "[0.8192645319337108, 0.8167762641645444]\n",
      "\n"
     ]
    }
   ],
   "source": [
    "from sklearn.preprocessing import MinMaxScaler\n",
    "\n",
    "scaler = MinMaxScaler(feature_range=(0,1))\n",
    "scaled_data = scaler.fit_transform(dataset)\n",
    "# Create the training data set \n",
    "# Create the scaled training data set\n",
    "train_data = scaled_data[0:int(training_data_len), :]\n",
    "# Split the data into x_train and y_train data sets\n",
    "x_train = []\n",
    "y_train = []\n",
    "\n",
    "for i in range(5, len(train_data)):\n",
    "    x_train.append(train_data[i-5:i, 0])\n",
    "    y_train.append(train_data[i, 0])\n",
    "    if i<= 6:\n",
    "        print(x_train)\n",
    "        print(y_train)\n",
    "        print()\n",
    "        \n",
    "# Convert the x_train and y_train to numpy arrays \n",
    "x_train, y_train = np.array(x_train), np.array(y_train)\n",
    "\n",
    "# Reshape the data\n",
    "#x_train = np.reshape(x_train, ( x_train.shape[0], x_train.shape[1], 1))"
   ]
  },
  {
   "cell_type": "code",
   "execution_count": 3,
   "metadata": {},
   "outputs": [],
   "source": [
    "n_steps = 1\n",
    "n_length = 5\n",
    "n_features = 1\n",
    "n_outputs=1\n"
   ]
  },
  {
   "cell_type": "code",
   "execution_count": 4,
   "metadata": {},
   "outputs": [
    {
     "data": {
      "text/plain": [
       "96000"
      ]
     },
     "execution_count": 4,
     "metadata": {},
     "output_type": "execute_result"
    }
   ],
   "source": [
    "df.size"
   ]
  },
  {
   "cell_type": "code",
   "execution_count": 5,
   "metadata": {},
   "outputs": [
    {
     "data": {
      "text/plain": [
       "(11395, 5)"
      ]
     },
     "execution_count": 5,
     "metadata": {},
     "output_type": "execute_result"
    }
   ],
   "source": [
    "x_train.shape"
   ]
  },
  {
   "cell_type": "code",
   "execution_count": 6,
   "metadata": {},
   "outputs": [],
   "source": [
    "train_x = x_train.reshape((x_train.shape[0], n_steps, 1, n_length, n_features))\n",
    "# reshape output into [samples, timesteps, features]\n",
    "train_y = y_train.reshape((y_train.shape[0],1, 1))"
   ]
  },
  {
   "cell_type": "code",
   "execution_count": 7,
   "metadata": {},
   "outputs": [
    {
     "name": "stdout",
     "output_type": "stream",
     "text": [
      "Epoch 1/100\n",
      "713/713 [==============================] - 13s 9ms/step - loss: 0.0108\n",
      "Epoch 2/100\n",
      "713/713 [==============================] - 7s 9ms/step - loss: 9.5847e-05\n",
      "Epoch 3/100\n",
      "713/713 [==============================] - 7s 10ms/step - loss: 9.3662e-05\n",
      "Epoch 4/100\n",
      "713/713 [==============================] - 6s 9ms/step - loss: 9.5118e-05\n",
      "Epoch 5/100\n",
      "713/713 [==============================] - 9s 12ms/step - loss: 9.1633e-05\n",
      "Epoch 6/100\n",
      "713/713 [==============================] - 7s 9ms/step - loss: 9.2481e-05\n",
      "Epoch 7/100\n",
      "713/713 [==============================] - 9s 13ms/step - loss: 7.9316e-05\n",
      "Epoch 8/100\n",
      "713/713 [==============================] - 7s 9ms/step - loss: 8.6635e-05\n",
      "Epoch 9/100\n",
      "713/713 [==============================] - 9s 13ms/step - loss: 7.2682e-05\n",
      "Epoch 10/100\n",
      "713/713 [==============================] - 7s 10ms/step - loss: 7.2801e-05\n",
      "Epoch 11/100\n",
      "713/713 [==============================] - 12s 16ms/step - loss: 6.4499e-05\n",
      "Epoch 12/100\n",
      "713/713 [==============================] - 8s 11ms/step - loss: 6.8510e-05\n",
      "Epoch 13/100\n",
      "713/713 [==============================] - 14s 19ms/step - loss: 6.5996e-05\n",
      "Epoch 14/100\n",
      "713/713 [==============================] - 10s 14ms/step - loss: 7.4408e-05\n",
      "Epoch 15/100\n",
      "713/713 [==============================] - 12s 16ms/step - loss: 6.6693e-05\n",
      "Epoch 16/100\n",
      "713/713 [==============================] - 11s 16ms/step - loss: 5.8541e-05\n",
      "Epoch 17/100\n",
      "713/713 [==============================] - 12s 16ms/step - loss: 6.6196e-05\n",
      "Epoch 18/100\n",
      "713/713 [==============================] - 8s 11ms/step - loss: 6.6961e-05\n",
      "Epoch 19/100\n",
      "713/713 [==============================] - 11s 16ms/step - loss: 6.1348e-05\n",
      "Epoch 20/100\n",
      "713/713 [==============================] - 11s 16ms/step - loss: 6.6304e-05\n",
      "Epoch 21/100\n",
      "713/713 [==============================] - 8s 11ms/step - loss: 6.7155e-05\n",
      "Epoch 22/100\n",
      "713/713 [==============================] - 11s 16ms/step - loss: 6.0918e-05\n",
      "Epoch 23/100\n",
      "713/713 [==============================] - 12s 16ms/step - loss: 5.9234e-05\n",
      "Epoch 24/100\n",
      "713/713 [==============================] - 8s 12ms/step - loss: 6.3410e-05\n",
      "Epoch 25/100\n",
      "713/713 [==============================] - 11s 16ms/step - loss: 6.2540e-05\n",
      "Epoch 26/100\n",
      "713/713 [==============================] - 11s 16ms/step - loss: 6.2494e-05\n",
      "Epoch 27/100\n",
      "713/713 [==============================] - 8s 12ms/step - loss: 6.0426e-05\n",
      "Epoch 28/100\n",
      "713/713 [==============================] - 11s 16ms/step - loss: 6.1522e-05\n",
      "Epoch 29/100\n",
      "713/713 [==============================] - 8s 11ms/step - loss: 5.9466e-05\n",
      "Epoch 30/100\n",
      "713/713 [==============================] - 11s 16ms/step - loss: 5.9396e-05\n",
      "Epoch 31/100\n",
      "713/713 [==============================] - 12s 17ms/step - loss: 5.9418e-05\n",
      "Epoch 32/100\n",
      "713/713 [==============================] - 8s 12ms/step - loss: 6.3505e-05\n",
      "Epoch 33/100\n",
      "713/713 [==============================] - 11s 16ms/step - loss: 6.3891e-05\n",
      "Epoch 34/100\n",
      "713/713 [==============================] - 12s 17ms/step - loss: 5.9193e-05\n",
      "Epoch 35/100\n",
      "713/713 [==============================] - 8s 11ms/step - loss: 5.8531e-05\n",
      "Epoch 36/100\n",
      "713/713 [==============================] - 12s 16ms/step - loss: 5.6487e-05\n",
      "Epoch 37/100\n",
      "713/713 [==============================] - 12s 17ms/step - loss: 6.0492e-05\n",
      "Epoch 38/100\n",
      "713/713 [==============================] - 8s 12ms/step - loss: 5.7575e-05\n",
      "Epoch 39/100\n",
      "713/713 [==============================] - 12s 17ms/step - loss: 5.8342e-05\n",
      "Epoch 40/100\n",
      "713/713 [==============================] - 12s 17ms/step - loss: 5.4542e-05\n",
      "Epoch 41/100\n",
      "713/713 [==============================] - 9s 13ms/step - loss: 6.0665e-05\n",
      "Epoch 42/100\n",
      "713/713 [==============================] - 12s 17ms/step - loss: 5.5118e-05\n",
      "Epoch 43/100\n",
      "713/713 [==============================] - 11s 16ms/step - loss: 5.7508e-05\n",
      "Epoch 44/100\n",
      "713/713 [==============================] - 8s 12ms/step - loss: 6.1129e-05\n",
      "Epoch 45/100\n",
      "713/713 [==============================] - 12s 16ms/step - loss: 5.7792e-05\n",
      "Epoch 46/100\n",
      "713/713 [==============================] - 12s 16ms/step - loss: 5.5658e-05\n",
      "Epoch 47/100\n",
      "713/713 [==============================] - 8s 11ms/step - loss: 5.7353e-05\n",
      "Epoch 48/100\n",
      "713/713 [==============================] - 12s 16ms/step - loss: 5.8488e-05\n",
      "Epoch 49/100\n",
      "713/713 [==============================] - 12s 16ms/step - loss: 5.7923e-05\n",
      "Epoch 50/100\n",
      "713/713 [==============================] - 9s 13ms/step - loss: 5.7583e-05\n",
      "Epoch 51/100\n",
      "713/713 [==============================] - 12s 17ms/step - loss: 5.6861e-05\n",
      "Epoch 52/100\n",
      "713/713 [==============================] - 12s 16ms/step - loss: 5.5350e-05\n",
      "Epoch 53/100\n",
      "713/713 [==============================] - 9s 13ms/step - loss: 6.3415e-05\n",
      "Epoch 54/100\n",
      "713/713 [==============================] - 11s 16ms/step - loss: 5.3231e-05\n",
      "Epoch 55/100\n",
      "713/713 [==============================] - 12s 17ms/step - loss: 5.7597e-05\n",
      "Epoch 56/100\n",
      "713/713 [==============================] - 8s 12ms/step - loss: 5.7966e-05\n",
      "Epoch 57/100\n",
      "713/713 [==============================] - 12s 16ms/step - loss: 5.5581e-05\n",
      "Epoch 58/100\n",
      "713/713 [==============================] - 12s 17ms/step - loss: 5.7000e-05\n",
      "Epoch 59/100\n",
      "713/713 [==============================] - 9s 12ms/step - loss: 5.5608e-05\n",
      "Epoch 60/100\n",
      "713/713 [==============================] - 12s 17ms/step - loss: 5.3643e-05\n",
      "Epoch 61/100\n",
      "713/713 [==============================] - 13s 18ms/step - loss: 5.6626e-05\n",
      "Epoch 62/100\n",
      "713/713 [==============================] - 13s 18ms/step - loss: 5.4911e-05\n",
      "Epoch 63/100\n",
      "713/713 [==============================] - 11s 15ms/step - loss: 5.6443e-05\n",
      "Epoch 64/100\n",
      "713/713 [==============================] - 13s 19ms/step - loss: 5.8752e-05\n",
      "Epoch 65/100\n",
      "713/713 [==============================] - 13s 18ms/step - loss: 5.4205e-05\n",
      "Epoch 66/100\n",
      "713/713 [==============================] - 13s 18ms/step - loss: 5.4662e-05\n",
      "Epoch 67/100\n",
      "713/713 [==============================] - 9s 13ms/step - loss: 5.6472e-05\n",
      "Epoch 68/100\n",
      "713/713 [==============================] - 13s 18ms/step - loss: 5.7461e-05\n",
      "Epoch 69/100\n",
      "713/713 [==============================] - 13s 18ms/step - loss: 5.5719e-05\n",
      "Epoch 70/100\n",
      "713/713 [==============================] - 13s 18ms/step - loss: 5.4046e-05\n",
      "Epoch 71/100\n",
      "713/713 [==============================] - 9s 13ms/step - loss: 5.6842e-05\n",
      "Epoch 72/100\n",
      "713/713 [==============================] - 12s 17ms/step - loss: 5.3927e-05\n",
      "Epoch 73/100\n",
      "713/713 [==============================] - 13s 18ms/step - loss: 5.4084e-05\n",
      "Epoch 74/100\n",
      "713/713 [==============================] - 14s 19ms/step - loss: 5.7706e-05\n",
      "Epoch 75/100\n",
      "713/713 [==============================] - 9s 13ms/step - loss: 5.4945e-05\n",
      "Epoch 76/100\n",
      "713/713 [==============================] - 13s 18ms/step - loss: 5.5531e-05\n",
      "Epoch 77/100\n",
      "713/713 [==============================] - 13s 18ms/step - loss: 5.3763e-05\n",
      "Epoch 78/100\n",
      "713/713 [==============================] - 13s 18ms/step - loss: 5.5345e-05\n",
      "Epoch 79/100\n",
      "713/713 [==============================] - 9s 13ms/step - loss: 5.3478e-05\n",
      "Epoch 80/100\n",
      "713/713 [==============================] - 12s 16ms/step - loss: 5.8204e-05\n",
      "Epoch 81/100\n",
      "713/713 [==============================] - 12s 18ms/step - loss: 5.2511e-05\n",
      "Epoch 82/100\n",
      "713/713 [==============================] - 10s 14ms/step - loss: 5.5270e-05\n",
      "Epoch 83/100\n",
      "713/713 [==============================] - 11s 15ms/step - loss: 5.2374e-05\n",
      "Epoch 84/100\n",
      "713/713 [==============================] - 12s 17ms/step - loss: 5.2169e-05\n",
      "Epoch 85/100\n",
      "713/713 [==============================] - 12s 17ms/step - loss: 5.3326e-05\n",
      "Epoch 86/100\n",
      "713/713 [==============================] - 8s 12ms/step - loss: 5.2478e-05\n",
      "Epoch 87/100\n",
      "713/713 [==============================] - 12s 16ms/step - loss: 5.6157e-05\n",
      "Epoch 88/100\n",
      "713/713 [==============================] - 12s 17ms/step - loss: 5.1761e-05\n",
      "Epoch 89/100\n",
      "713/713 [==============================] - 8s 11ms/step - loss: 5.5626e-05\n",
      "Epoch 90/100\n",
      "713/713 [==============================] - 12s 17ms/step - loss: 5.3151e-05\n",
      "Epoch 91/100\n",
      "713/713 [==============================] - 12s 17ms/step - loss: 5.4047e-05\n",
      "Epoch 92/100\n",
      "713/713 [==============================] - 9s 13ms/step - loss: 5.4204e-05\n",
      "Epoch 93/100\n"
     ]
    },
    {
     "name": "stdout",
     "output_type": "stream",
     "text": [
      "713/713 [==============================] - 12s 16ms/step - loss: 5.5880e-05\n",
      "Epoch 94/100\n",
      "713/713 [==============================] - 11s 15ms/step - loss: 5.3526e-05\n",
      "Epoch 95/100\n",
      "713/713 [==============================] - 8s 11ms/step - loss: 5.3930e-05\n",
      "Epoch 96/100\n",
      "713/713 [==============================] - 12s 16ms/step - loss: 5.6742e-05\n",
      "Epoch 97/100\n",
      "713/713 [==============================] - 11s 15ms/step - loss: 5.5057e-05\n",
      "Epoch 98/100\n",
      "713/713 [==============================] - 8s 11ms/step - loss: 5.1870e-05\n",
      "Epoch 99/100\n",
      "713/713 [==============================] - 11s 16ms/step - loss: 5.2818e-05\n",
      "Epoch 100/100\n",
      "713/713 [==============================] - 11s 15ms/step - loss: 5.2251e-05\n"
     ]
    },
    {
     "data": {
      "image/png": "[encoded data removed]",
      "text/plain": [
       "<Figure size 432x288 with 1 Axes>"
      ]
     },
     "metadata": {
      "needs_background": "light"
     },
     "output_type": "display_data"
    }
   ],
   "source": [
    "#cnn-lstm\n",
    "import matplotlib.pyplot as plt\n",
    "from keras.models import Sequential\n",
    "from keras.layers import Dense, LSTM, Dropout, RepeatVector, TimeDistributed\n",
    "from keras.layers import Flatten\n",
    "from keras.layers.convolutional import Conv1D\n",
    "from keras.layers import ConvLSTM2D\n",
    "from keras.layers.convolutional import MaxPooling1D\n",
    "from numpy import array\n",
    "\n",
    "# Build the LSTM model\n",
    "model = Sequential()\n",
    "model.add(ConvLSTM2D(filters=128, kernel_size=(1,3), activation='relu', input_shape=(n_steps, 1, n_length, 1)))\n",
    "model.add(Flatten())\n",
    "model.add(RepeatVector(n_outputs))\n",
    "model.add(LSTM(200, activation='relu', return_sequences=True))\n",
    "model.add(TimeDistributed(Dense(100, activation='relu')))\n",
    "model.add(TimeDistributed(Dense(1)))\n",
    "model.compile(loss='mse', optimizer='adam')\n",
    "\n",
    "# Train the model\n",
    "history = model.fit(train_x, train_y, verbose=1, batch_size=16, epochs=100)\n",
    "\n",
    "# Get training and test loss histories\n",
    "training_loss = history.history['loss']\n",
    "# Create count of the number of epochs\n",
    "epoch_count = range(1, len(training_loss) + 1)\n",
    "\n",
    "# Visualize loss history\n",
    "plt.plot(epoch_count, training_loss, 'r--')\n",
    "plt.legend(['Training Loss'])\n",
    "plt.xlabel('Epoch')\n",
    "plt.ylabel('Loss')\n",
    "plt.show();"
   ]
  },
  {
   "cell_type": "code",
   "execution_count": 8,
   "metadata": {},
   "outputs": [
    {
     "data": {
      "text/plain": [
       "0.23845279236078623"
      ]
     },
     "execution_count": 8,
     "metadata": {},
     "output_type": "execute_result"
    }
   ],
   "source": [
    "test_data = scaled_data[training_data_len - 5: , :]\n",
    "# Create the data sets x_test and y_test\n",
    "x_test = []\n",
    "y_test = dataset[training_data_len:, :]\n",
    "for i in range(5, len(test_data)):\n",
    "    x_test.append(test_data[i-5:i, 0])\n",
    "    \n",
    "# Convert the data to a numpy array\n",
    "x_test = np.array(x_test)\n",
    "\n",
    "# Reshape the data\n",
    "x_test = np.reshape(x_test, (x_test.shape[0], n_steps, 1, n_length, n_features ))\n",
    "\n",
    "# Get the models predicted price values \n",
    "predictions3 = model.predict(x_test)\n",
    "predictions3_3 = np.reshape(predictions3,(predictions3.shape[0],1))\n",
    "predictions34 = scaler.inverse_transform(predictions3_3)\n",
    "\n",
    "# Get the root mean squared error (RMSE)\n",
    "rmse = np.sqrt(np.mean(((predictions34 - y_test) ** 2)))\n",
    "rmse"
   ]
  },
  {
   "cell_type": "code",
   "execution_count": 9,
   "metadata": {},
   "outputs": [
    {
     "name": "stderr",
     "output_type": "stream",
     "text": [
      "<ipython-input-9-59fc5f4e9ffd>:7: SettingWithCopyWarning: \n",
      "A value is trying to be set on a copy of a slice from a DataFrame.\n",
      "Try using .loc[row_indexer,col_indexer] = value instead\n",
      "\n",
      "See the caveats in the documentation: https://pandas.pydata.org/pandas-docs/stable/user_guide/indexing.html#returning-a-view-versus-a-copy\n",
      "  valid_c['Predictions3'] = predictions34\n"
     ]
    },
    {
     "data": {
      "text/plain": [
       "0.1180542413828074"
      ]
     },
     "execution_count": 9,
     "metadata": {},
     "output_type": "execute_result"
    }
   ],
   "source": [
    "def mape(actual, pred): \n",
    "    actual, pred = np.array(actual), np.array(pred)\n",
    "    return np.mean(np.abs((actual - pred) / actual)) * 100\n",
    "\n",
    "train = data[:training_data_len]\n",
    "valid_c = data[training_data_len:]\n",
    "valid_c['Predictions3'] = predictions34\n",
    "\n",
    "mape(valid_c['Close'], valid_c['Predictions3'])"
   ]
  },
  {
   "cell_type": "code",
   "execution_count": 10,
   "metadata": {},
   "outputs": [
    {
     "name": "stdout",
     "output_type": "stream",
     "text": [
      "Model: \"sequential\"\n",
      "_________________________________________________________________\n",
      " Layer (type)                Output Shape              Param #   \n",
      "=================================================================\n",
      " conv_lstm2d (ConvLSTM2D)    (None, 1, 3, 128)         198656    \n",
      "                                                                 \n",
      " flatten (Flatten)           (None, 384)               0         \n",
      "                                                                 \n",
      " repeat_vector (RepeatVector  (None, 1, 384)           0         \n",
      " )                                                               \n",
      "                                                                 \n",
      " lstm (LSTM)                 (None, 1, 200)            468000    \n",
      "                                                                 \n",
      " time_distributed (TimeDistr  (None, 1, 100)           20100     \n",
      " ibuted)                                                         \n",
      "                                                                 \n",
      " time_distributed_1 (TimeDis  (None, 1, 1)             101       \n",
      " tributed)                                                       \n",
      "                                                                 \n",
      "=================================================================\n",
      "Total params: 686,857\n",
      "Trainable params: 686,857\n",
      "Non-trainable params: 0\n",
      "_________________________________________________________________\n"
     ]
    }
   ],
   "source": [
    "model.summary()"
   ]
  },
  {
   "cell_type": "code",
   "execution_count": null,
   "metadata": {},
   "outputs": [],
   "source": []
  }
 ],
 "metadata": {
  "kernelspec": {
   "display_name": "Python 3",
   "language": "python",
   "name": "python3"
  },
  "language_info": {
   "codemirror_mode": {
    "name": "ipython",
    "version": 3
   },
   "file_extension": ".py",
   "mimetype": "text/x-python",
   "name": "python",
   "nbconvert_exporter": "python",
   "pygments_lexer": "ipython3",
   "version": "3.8.5"
  }
 },
 "nbformat": 4,
 "nbformat_minor": 4
}
