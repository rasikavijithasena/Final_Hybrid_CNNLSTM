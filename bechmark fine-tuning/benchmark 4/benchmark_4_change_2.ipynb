{
 "cells": [
  {
   "cell_type": "code",
   "execution_count": 1,
   "metadata": {},
   "outputs": [],
   "source": [
    "import pandas as pd\n",
    "from datetime import datetime\n",
    "import time\n",
    "import numpy as np\n",
    "import pandas as pd\n",
    "import io"
   ]
  },
  {
   "cell_type": "code",
   "execution_count": 2,
   "metadata": {},
   "outputs": [],
   "source": [
    "df = pd.read_csv('aapl_all_csv.csv')\n",
    "# Inspect the data\n",
    "\n",
    "df['Date'] = df['Datetime'].str[:-6]\n",
    "df['Date']=pd.to_datetime(df[\"Date\"]).dt.strftime(\"%Y-%m-%d %H:%M:%S\")"
   ]
  },
  {
   "cell_type": "code",
   "execution_count": 3,
   "metadata": {},
   "outputs": [],
   "source": [
    "data_date = df.filter(['Date'])\n",
    "\n",
    "data_date = data_date.values\n",
    "# Get the number of rows to train the model on\n",
    "training_data_date = int(np.ceil( len(data_date) * .95 ))\n",
    "train_data_date = data_date[0:int(training_data_date), :]"
   ]
  },
  {
   "cell_type": "code",
   "execution_count": 4,
   "metadata": {},
   "outputs": [],
   "source": [
    "import tensorflow.keras.layers\n",
    "from tensorflow.keras.models import Sequential\n",
    "from tensorflow.keras.layers import Dense, LSTM\n",
    "from tensorflow.keras.optimizers import Adam\n",
    "from tensorflow.keras.layers import Conv1D\n",
    "from tensorflow.keras.layers import MaxPooling1D\n",
    "from tensorflow.keras.layers import Bidirectional\n",
    "from tensorflow.keras.layers import Dense, Input, Embedding, Dropout, Activation, Conv1D\n",
    "from tensorflow.keras.layers import Dense, Input, RNN\n",
    "from tensorflow.keras.models import Model, Sequential, load_model\n",
    "from tensorflow.keras import backend as K\n",
    "from tensorflow.keras.optimizers import Adam\n",
    "\n",
    "import math\n",
    "from sklearn.preprocessing import MinMaxScaler\n",
    "from sklearn.metrics import mean_squared_error"
   ]
  },
  {
   "cell_type": "code",
   "execution_count": 5,
   "metadata": {},
   "outputs": [
    {
     "name": "stdout",
     "output_type": "stream",
     "text": [
      "2.8.0\n"
     ]
    }
   ],
   "source": [
    "\n",
    "import tensorflow as tf\n",
    "print(tf.__version__)"
   ]
  },
  {
   "cell_type": "code",
   "execution_count": 6,
   "metadata": {},
   "outputs": [
    {
     "name": "stdout",
     "output_type": "stream",
     "text": [
      "Datetime     0\n",
      "Open         0\n",
      "High         0\n",
      "Low          0\n",
      "Close        0\n",
      "Adj Close    0\n",
      "Volume       0\n",
      "Date         0\n",
      "dtype: int64\n"
     ]
    }
   ],
   "source": [
    "data = pd.DataFrame()\n",
    "data['Close']=df['Close']\n",
    "count_nan = len(df) - df.count()\n",
    "print(count_nan)"
   ]
  },
  {
   "cell_type": "code",
   "execution_count": 7,
   "metadata": {},
   "outputs": [],
   "source": [
    "#Converting the dataframe to a numpy array\n",
    "dataset = data.values\n",
    "#Get /Compute the number of rows to train the model on\n",
    "# training_data_len = math.ceil( len(dataset) *.6)\n",
    "training_data_len = math.ceil( len(dataset)*.95) \n",
    "\n",
    "\n",
    "\n",
    "#Scale the all of the data to be values between 0 and 1 \n",
    "scaler = MinMaxScaler(feature_range=(0, 1)) \n",
    "scaled_data = scaler.fit_transform(dataset)\n",
    "\n",
    "\n",
    "#Create the scaled training data set \n",
    "train_data = scaled_data[0:training_data_len  , : ]\n",
    "#Split the data into x_train and y_train data sets\n",
    "x_train=[]\n",
    "y_train = []\n",
    "for i in range(60,len(train_data)):\n",
    "    x_train.append(train_data[i-60:i,0])\n",
    "    y_train.append(train_data[i,0])\n",
    "\n",
    "\n",
    "#Convert x_train and y_train to numpy arrays\n",
    "x_train, y_train = np.array(x_train), np.array(y_train)    \n",
    "\n",
    "\n",
    "#Reshape the data into the shape accepted by the LSTM\n",
    "x_train = np.reshape(x_train, (x_train.shape[0],x_train.shape[1],1))"
   ]
  },
  {
   "cell_type": "code",
   "execution_count": 8,
   "metadata": {},
   "outputs": [],
   "source": [
    "#Test data set\n",
    "test_data = scaled_data[training_data_len - 60: , : ]\n",
    "#Create the x_test and y_test data sets\n",
    "x_test = []\n",
    "y_test =  dataset[training_data_len : , : ] \n",
    "for i in range(60,len(test_data)):\n",
    "    x_test.append(test_data[i-60:i,0])\n",
    "\n",
    "\n",
    "\n",
    "#Convert x_test to a numpy array \n",
    "x_test = np.array(x_test)\n",
    "\n",
    "#Reshape the data into the shape accepted by the LSTM\n",
    "x_test = np.reshape(x_test, (x_test.shape[0],x_test.shape[1],1))"
   ]
  },
  {
   "cell_type": "code",
   "execution_count": 9,
   "metadata": {},
   "outputs": [],
   "source": [
    "dataDimension = int(x_train.shape[1]) "
   ]
  },
  {
   "cell_type": "code",
   "execution_count": 10,
   "metadata": {},
   "outputs": [
    {
     "data": {
      "text/plain": [
       "True"
      ]
     },
     "execution_count": 10,
     "metadata": {},
     "output_type": "execute_result"
    }
   ],
   "source": [
    "cell = \"FastRNN\" \n",
    " \n",
    "inputDims = 1 #features taken in by RNN in one timestep\n",
    "hiddenDims = 50 #hidden state of RNN\n",
    " \n",
    "totalEpochs = 8\n",
    "batchSize = 64\n",
    " \n",
    "learningRate = 0.001 \n",
    "decayStep = 50\n",
    "decayRate = 0.1\n",
    " \n",
    "outFile = None\n",
    " \n",
    "\n",
    "wRank = None \n",
    "uRank = None \n",
    " \n",
    "\n",
    "sW = 1.0 \n",
    "sU = 1.0\n",
    " \n",
    "#Non-linearities for the RNN architecture. Can choose from \"tanh, sigmoid, relu, quantTanh, quantSigm\"\n",
    "update_non_linearity = \"relu\"\n",
    "gate_non_linearity = \"relu\"\n",
    "\n",
    "\n",
    "cell == \"FastRNN\""
   ]
  },
  {
   "cell_type": "code",
   "execution_count": 11,
   "metadata": {},
   "outputs": [
    {
     "name": "stdout",
     "output_type": "stream",
     "text": [
      "(12672, 60, 1)\n",
      "(670, 60, 1)\n",
      "(12672, 60, 1)\n",
      "(670, 60, 1)\n"
     ]
    }
   ],
   "source": [
    "print(x_train.shape)\n",
    "x_train = np.reshape(x_train,[x_train.shape[0],x_train.shape[1],1])\n",
    "print(x_test.shape)\n",
    "x_test = np.reshape(x_test,[x_test.shape[0],x_test.shape[1],1])\n",
    "print(x_train.shape)\n",
    "print(x_test.shape)"
   ]
  },
  {
   "cell_type": "code",
   "execution_count": 12,
   "metadata": {},
   "outputs": [
    {
     "name": "stdout",
     "output_type": "stream",
     "text": [
      "Epoch 1/100\n",
      "198/198 [==============================] - 76s 272ms/step - loss: 0.0048\n",
      "Epoch 2/100\n",
      "198/198 [==============================] - 64s 323ms/step - loss: 1.5706e-04\n",
      "Epoch 3/100\n",
      "198/198 [==============================] - 69s 346ms/step - loss: 1.3454e-04\n",
      "Epoch 4/100\n",
      "198/198 [==============================] - 72s 362ms/step - loss: 1.1287e-04\n",
      "Epoch 5/100\n",
      "198/198 [==============================] - 70s 354ms/step - loss: 1.0016e-04\n",
      "Epoch 6/100\n",
      "198/198 [==============================] - 66s 334ms/step - loss: 8.8715e-05\n",
      "Epoch 7/100\n",
      "198/198 [==============================] - 68s 341ms/step - loss: 9.5625e-05\n",
      "Epoch 8/100\n",
      "198/198 [==============================] - 65s 329ms/step - loss: 8.9276e-05\n",
      "Epoch 9/100\n",
      "198/198 [==============================] - 66s 334ms/step - loss: 7.4953e-05\n",
      "Epoch 10/100\n",
      "198/198 [==============================] - 70s 355ms/step - loss: 9.1885e-05\n",
      "Epoch 11/100\n",
      "198/198 [==============================] - 69s 351ms/step - loss: 6.8853e-05\n",
      "Epoch 12/100\n",
      "198/198 [==============================] - 73s 370ms/step - loss: 7.6046e-05\n",
      "Epoch 13/100\n",
      "198/198 [==============================] - 68s 341ms/step - loss: 6.6398e-05\n",
      "Epoch 14/100\n",
      "198/198 [==============================] - 72s 366ms/step - loss: 7.4706e-05\n",
      "Epoch 15/100\n",
      "198/198 [==============================] - 75s 377ms/step - loss: 6.8889e-05\n",
      "Epoch 16/100\n",
      "198/198 [==============================] - 73s 369ms/step - loss: 6.0103e-05\n",
      "Epoch 17/100\n",
      "198/198 [==============================] - 73s 368ms/step - loss: 5.9260e-05\n",
      "Epoch 18/100\n",
      "198/198 [==============================] - 73s 368ms/step - loss: 7.6488e-05\n",
      "Epoch 19/100\n",
      "198/198 [==============================] - 68s 341ms/step - loss: 6.9778e-05\n",
      "Epoch 20/100\n",
      "198/198 [==============================] - 68s 344ms/step - loss: 7.2709e-05\n",
      "Epoch 21/100\n",
      "198/198 [==============================] - 69s 346ms/step - loss: 8.0649e-05\n",
      "Epoch 22/100\n",
      "198/198 [==============================] - 63s 319ms/step - loss: 6.1268e-05\n",
      "Epoch 23/100\n",
      "198/198 [==============================] - 66s 335ms/step - loss: 5.9058e-05\n",
      "Epoch 24/100\n",
      "198/198 [==============================] - 65s 330ms/step - loss: 6.4391e-05\n",
      "Epoch 25/100\n",
      "198/198 [==============================] - 62s 314ms/step - loss: 5.5596e-05\n",
      "Epoch 26/100\n",
      "198/198 [==============================] - 751s 4s/step - loss: 6.3370e-05\n",
      "Epoch 27/100\n",
      "198/198 [==============================] - 65s 330ms/step - loss: 5.4660e-05\n",
      "Epoch 28/100\n",
      "198/198 [==============================] - 68s 346ms/step - loss: 5.7990e-05\n",
      "Epoch 29/100\n",
      "198/198 [==============================] - 73s 370ms/step - loss: 6.2851e-05\n",
      "Epoch 30/100\n",
      "198/198 [==============================] - 70s 352ms/step - loss: 6.3999e-05\n",
      "Epoch 31/100\n",
      "198/198 [==============================] - 72s 363ms/step - loss: 5.3781e-05\n",
      "Epoch 32/100\n",
      "198/198 [==============================] - 71s 357ms/step - loss: 5.1481e-05\n",
      "Epoch 33/100\n",
      "198/198 [==============================] - 71s 359ms/step - loss: 6.0228e-05\n",
      "Epoch 34/100\n",
      "198/198 [==============================] - 69s 348ms/step - loss: 5.8825e-05\n",
      "Epoch 35/100\n",
      "198/198 [==============================] - 72s 362ms/step - loss: 5.9298e-05\n",
      "Epoch 36/100\n",
      "198/198 [==============================] - 76s 383ms/step - loss: 5.5588e-05\n",
      "Epoch 37/100\n",
      "198/198 [==============================] - 73s 367ms/step - loss: 5.7333e-05\n",
      "Epoch 38/100\n",
      "198/198 [==============================] - 71s 356ms/step - loss: 4.8381e-05\n",
      "Epoch 39/100\n",
      "198/198 [==============================] - 73s 370ms/step - loss: 5.1914e-05\n",
      "Epoch 40/100\n",
      "198/198 [==============================] - 71s 358ms/step - loss: 5.6674e-05\n",
      "Epoch 41/100\n",
      "198/198 [==============================] - 76s 383ms/step - loss: 5.1474e-05\n",
      "Epoch 42/100\n",
      "198/198 [==============================] - 71s 361ms/step - loss: 6.7536e-05\n",
      "Epoch 43/100\n",
      "198/198 [==============================] - 74s 371ms/step - loss: 5.3651e-05\n",
      "Epoch 44/100\n",
      "198/198 [==============================] - 70s 354ms/step - loss: 5.0847e-05\n",
      "Epoch 45/100\n",
      "198/198 [==============================] - 74s 373ms/step - loss: 4.8809e-05\n",
      "Epoch 46/100\n",
      "198/198 [==============================] - 70s 355ms/step - loss: 5.9876e-05\n",
      "Epoch 47/100\n",
      "198/198 [==============================] - 72s 363ms/step - loss: 5.4289e-05\n",
      "Epoch 48/100\n",
      "198/198 [==============================] - 83s 419ms/step - loss: 5.1927e-05\n",
      "Epoch 49/100\n",
      "198/198 [==============================] - 98s 496ms/step - loss: 5.2659e-05\n",
      "Epoch 50/100\n",
      "198/198 [==============================] - 97s 491ms/step - loss: 4.8054e-05\n",
      "Epoch 51/100\n",
      "198/198 [==============================] - 97s 488ms/step - loss: 4.7785e-05\n",
      "Epoch 52/100\n",
      "198/198 [==============================] - 105s 530ms/step - loss: 5.0496e-05\n",
      "Epoch 53/100\n",
      "198/198 [==============================] - 101s 510ms/step - loss: 6.0052e-05\n",
      "Epoch 54/100\n",
      "198/198 [==============================] - 109s 553ms/step - loss: 5.1113e-05\n",
      "Epoch 55/100\n",
      "198/198 [==============================] - 96s 488ms/step - loss: 4.9142e-05\n",
      "Epoch 56/100\n",
      "198/198 [==============================] - 104s 529ms/step - loss: 5.6289e-05\n",
      "Epoch 57/100\n",
      "198/198 [==============================] - 100s 506ms/step - loss: 5.2840e-05\n",
      "Epoch 58/100\n",
      "198/198 [==============================] - 107s 540ms/step - loss: 5.2278e-05\n",
      "Epoch 59/100\n",
      "198/198 [==============================] - 106s 534ms/step - loss: 4.7810e-05\n",
      "Epoch 60/100\n",
      "198/198 [==============================] - 95s 483ms/step - loss: 4.5765e-05\n",
      "Epoch 61/100\n",
      "198/198 [==============================] - 94s 478ms/step - loss: 5.3106e-05\n",
      "Epoch 62/100\n",
      "198/198 [==============================] - 102s 512ms/step - loss: 4.9495e-05\n",
      "Epoch 63/100\n",
      "198/198 [==============================] - 103s 519ms/step - loss: 5.4373e-05\n",
      "Epoch 64/100\n",
      "198/198 [==============================] - 106s 534ms/step - loss: 4.7616e-05\n",
      "Epoch 65/100\n",
      "198/198 [==============================] - 103s 521ms/step - loss: 5.0727e-05\n",
      "Epoch 66/100\n",
      "198/198 [==============================] - 105s 532ms/step - loss: 5.0033e-05\n",
      "Epoch 67/100\n",
      "198/198 [==============================] - 99s 500ms/step - loss: 4.6141e-05\n",
      "Epoch 68/100\n",
      "198/198 [==============================] - 106s 539ms/step - loss: 4.7005e-05\n",
      "Epoch 69/100\n",
      "198/198 [==============================] - 99s 498ms/step - loss: 4.7030e-05\n",
      "Epoch 70/100\n",
      "198/198 [==============================] - 106s 536ms/step - loss: 5.0328e-05\n",
      "Epoch 71/100\n",
      "198/198 [==============================] - 101s 510ms/step - loss: 4.7790e-05\n",
      "Epoch 72/100\n",
      "198/198 [==============================] - 96s 488ms/step - loss: 4.3943e-05\n",
      "Epoch 73/100\n",
      "198/198 [==============================] - 95s 480ms/step - loss: 4.6351e-05\n",
      "Epoch 74/100\n",
      "198/198 [==============================] - 110s 554ms/step - loss: 5.0982e-05\n",
      "Epoch 75/100\n",
      "198/198 [==============================] - 98s 494ms/step - loss: 5.0303e-05\n",
      "Epoch 76/100\n",
      "198/198 [==============================] - 101s 512ms/step - loss: 4.3018e-05\n",
      "Epoch 77/100\n",
      "198/198 [==============================] - 100s 505ms/step - loss: 4.8098e-05\n",
      "Epoch 78/100\n",
      "198/198 [==============================] - 59s 295ms/step - loss: 4.4684e-05\n",
      "Epoch 79/100\n",
      "198/198 [==============================] - 60s 301ms/step - loss: 4.8340e-05\n",
      "Epoch 80/100\n",
      "198/198 [==============================] - 59s 298ms/step - loss: 4.3789e-05\n",
      "Epoch 81/100\n",
      "198/198 [==============================] - 52s 261ms/step - loss: 5.1335e-05\n",
      "Epoch 82/100\n",
      "198/198 [==============================] - 52s 263ms/step - loss: 4.4778e-05\n",
      "Epoch 83/100\n",
      "198/198 [==============================] - 56s 283ms/step - loss: 4.5141e-05\n",
      "Epoch 84/100\n",
      "198/198 [==============================] - 52s 263ms/step - loss: 4.4999e-05\n",
      "Epoch 85/100\n",
      "198/198 [==============================] - 41s 208ms/step - loss: 4.7142e-05\n",
      "Epoch 86/100\n",
      "198/198 [==============================] - 37s 186ms/step - loss: 4.9200e-05\n",
      "Epoch 87/100\n",
      "198/198 [==============================] - 39s 195ms/step - loss: 4.3624e-05\n",
      "Epoch 88/100\n",
      "198/198 [==============================] - 42s 213ms/step - loss: 5.0468e-05\n",
      "Epoch 89/100\n",
      "198/198 [==============================] - 43s 218ms/step - loss: 4.5943e-05\n",
      "Epoch 90/100\n",
      "198/198 [==============================] - 41s 209ms/step - loss: 4.5217e-05\n",
      "Epoch 91/100\n",
      "198/198 [==============================] - 45s 229ms/step - loss: 4.7315e-05\n"
     ]
    },
    {
     "name": "stdout",
     "output_type": "stream",
     "text": [
      "Epoch 92/100\n",
      "198/198 [==============================] - 46s 233ms/step - loss: 4.5618e-05\n",
      "Epoch 93/100\n",
      "198/198 [==============================] - 48s 244ms/step - loss: 4.6492e-05\n",
      "Epoch 94/100\n",
      "198/198 [==============================] - 50s 253ms/step - loss: 4.3932e-05\n",
      "Epoch 95/100\n",
      "198/198 [==============================] - 45s 228ms/step - loss: 4.7660e-05\n",
      "Epoch 96/100\n",
      "198/198 [==============================] - 37s 185ms/step - loss: 4.4709e-05\n",
      "Epoch 97/100\n",
      "198/198 [==============================] - 40s 204ms/step - loss: 4.6125e-05\n",
      "Epoch 98/100\n",
      "198/198 [==============================] - 39s 195ms/step - loss: 4.3481e-05\n",
      "Epoch 99/100\n",
      "198/198 [==============================] - 42s 213ms/step - loss: 4.6497e-05\n",
      "Epoch 100/100\n",
      "198/198 [==============================] - 38s 193ms/step - loss: 4.5382e-05\n"
     ]
    },
    {
     "data": {
      "image/png": "[encoded data removed]",
      "text/plain": [
       "<Figure size 432x288 with 1 Axes>"
      ]
     },
     "metadata": {
      "needs_background": "light"
     },
     "output_type": "display_data"
    }
   ],
   "source": [
    "from keras.models import Sequential\n",
    "from keras.layers import Dense\n",
    "from keras.layers import SimpleRNN\n",
    "from keras.layers import Dropout\n",
    "import matplotlib.pyplot as plt\n",
    "\n",
    "#Initialize RNN:\n",
    "regressor = Sequential()\n",
    "\n",
    "#Adding the first RNN layer and some Dropout regularization\n",
    "regressor.add(SimpleRNN(units = 50, activation='tanh', return_sequences=True, input_shape= (x_train.shape[1],1)))\n",
    "regressor.add(Conv1D(filters=400, kernel_size=3 , padding='same', activation='relu', name='Conv1D'))\n",
    "regressor.add(MaxPooling1D(pool_size=1,name='MaxPooling1D'))\n",
    "\n",
    "\n",
    "#Adding the second RNN layer and some Dropout regularization\n",
    "regressor.add(Bidirectional(LSTM(units=50, return_sequences=False)))\n",
    "regressor.add(Dense(1))\n",
    "# Compile the model\n",
    "regressor.compile(optimizer='adam', loss='mean_squared_error')\n",
    "\n",
    "# Train the model\n",
    "history = regressor.fit(x_train, y_train, batch_size=64, epochs=100)\n",
    "\n",
    "# Get training and test loss histories\n",
    "training_loss = history.history['loss']\n",
    "# Create count of the number of epochs\n",
    "epoch_count = range(1, len(training_loss) + 1)\n",
    "\n",
    "# Visualize loss history\n",
    "plt.plot(epoch_count, training_loss, 'r--')\n",
    "plt.legend(['Training Loss'])\n",
    "plt.xlabel('Epoch')\n",
    "plt.ylabel('Loss')\n",
    "plt.show();"
   ]
  },
  {
   "cell_type": "code",
   "execution_count": null,
   "metadata": {},
   "outputs": [],
   "source": []
  },
  {
   "cell_type": "code",
   "execution_count": 15,
   "metadata": {},
   "outputs": [
    {
     "data": {
      "text/plain": [
       "0.1275286440623615"
      ]
     },
     "execution_count": 15,
     "metadata": {},
     "output_type": "execute_result"
    }
   ],
   "source": [
    "# Get the models predicted price values \n",
    "predictions = regressor.predict(x_test)\n",
    "predictions = scaler.inverse_transform(predictions)\n",
    "\n",
    "# Get the root mean squared error (RMSE)\n",
    "rmse = np.sqrt(np.mean(((predictions - y_test) ** 2)))\n",
    "rmse\n"
   ]
  },
  {
   "cell_type": "code",
   "execution_count": 16,
   "metadata": {},
   "outputs": [
    {
     "name": "stderr",
     "output_type": "stream",
     "text": [
      "<ipython-input-16-1f8d295990b0>:7: SettingWithCopyWarning: \n",
      "A value is trying to be set on a copy of a slice from a DataFrame.\n",
      "Try using .loc[row_indexer,col_indexer] = value instead\n",
      "\n",
      "See the caveats in the documentation: https://pandas.pydata.org/pandas-docs/stable/user_guide/indexing.html#returning-a-view-versus-a-copy\n",
      "  valid_3['Predictions'] = predictions\n"
     ]
    },
    {
     "data": {
      "text/plain": [
       "0.058098062934008536"
      ]
     },
     "execution_count": 16,
     "metadata": {},
     "output_type": "execute_result"
    }
   ],
   "source": [
    "def mape(actual, pred): \n",
    "    actual, pred = np.array(actual), np.array(pred)\n",
    "    return np.mean(np.abs((actual - pred) / actual)) * 100\n",
    "\n",
    "train = data[:training_data_len]\n",
    "valid_3 = data[training_data_len:]\n",
    "valid_3['Predictions'] = predictions\n",
    "\n",
    "mape(valid_3['Close'], valid_3['Predictions'])"
   ]
  },
  {
   "cell_type": "code",
   "execution_count": 17,
   "metadata": {},
   "outputs": [
    {
     "data": {
      "image/png": "[encoded data removed]",
      "text/plain": [
       "<Figure size 1152x432 with 1 Axes>"
      ]
     },
     "metadata": {
      "needs_background": "light"
     },
     "output_type": "display_data"
    }
   ],
   "source": [
    "import matplotlib.pyplot as plt\n",
    "plt.figure(figsize=(16,6))\n",
    "plt.title('Predicted Model - Apple')\n",
    "plt.xlabel('Index', fontsize=18)\n",
    "plt.ylabel('Close Price ($)', fontsize=18)\n",
    "#plt.plot(train['Close'], 'b-', label = 'train')\n",
    "plt.plot(predictions,'r-', label = 'predict')\n",
    "plt.plot(y_test,'b-', label = 'actual')\n",
    "#plt.legend(['Train', 'Val', 'Predictions'], loc='lower right')\n",
    "plt.show()"
   ]
  },
  {
   "cell_type": "code",
   "execution_count": null,
   "metadata": {},
   "outputs": [],
   "source": []
  }
 ],
 "metadata": {
  "kernelspec": {
   "display_name": "Python 3",
   "language": "python",
   "name": "python3"
  },
  "language_info": {
   "codemirror_mode": {
    "name": "ipython",
    "version": 3
   },
   "file_extension": ".py",
   "mimetype": "text/x-python",
   "name": "python",
   "nbconvert_exporter": "python",
   "pygments_lexer": "ipython3",
   "version": "3.8.5"
  }
 },
 "nbformat": 4,
 "nbformat_minor": 4
}
