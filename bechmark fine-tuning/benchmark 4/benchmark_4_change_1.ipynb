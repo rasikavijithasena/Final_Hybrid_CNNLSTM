{
 "cells": [
  {
   "cell_type": "code",
   "execution_count": 1,
   "metadata": {},
   "outputs": [],
   "source": [
    "import pandas as pd\n",
    "from datetime import datetime\n",
    "import time\n",
    "import numpy as np\n",
    "import pandas as pd\n",
    "import io"
   ]
  },
  {
   "cell_type": "code",
   "execution_count": 2,
   "metadata": {},
   "outputs": [],
   "source": [
    "df = pd.read_csv('aapl_all_csv.csv')\n",
    "# Inspect the data\n",
    "\n",
    "df['Date'] = df['Datetime'].str[:-6]\n",
    "df['Date']=pd.to_datetime(df[\"Date\"]).dt.strftime(\"%Y-%m-%d %H:%M:%S\")"
   ]
  },
  {
   "cell_type": "code",
   "execution_count": 3,
   "metadata": {},
   "outputs": [],
   "source": [
    "data_date = df.filter(['Date'])\n",
    "\n",
    "data_date = data_date.values\n",
    "# Get the number of rows to train the model on\n",
    "training_data_date = int(np.ceil( len(data_date) * .95 ))\n",
    "train_data_date = data_date[0:int(training_data_date), :]"
   ]
  },
  {
   "cell_type": "code",
   "execution_count": 4,
   "metadata": {},
   "outputs": [],
   "source": [
    "import tensorflow.keras.layers\n",
    "from tensorflow.keras.models import Sequential\n",
    "from tensorflow.keras.layers import Dense, LSTM\n",
    "from tensorflow.keras.optimizers import Adam\n",
    "from tensorflow.keras.layers import Conv1D\n",
    "from tensorflow.keras.layers import MaxPooling1D\n",
    "from tensorflow.keras.layers import Bidirectional\n",
    "from tensorflow.keras.layers import Dense, Input, Embedding, Dropout, Activation, Conv1D\n",
    "from tensorflow.keras.layers import Dense, Input, RNN\n",
    "from tensorflow.keras.models import Model, Sequential, load_model\n",
    "from tensorflow.keras import backend as K\n",
    "from tensorflow.keras.optimizers import Adam\n",
    "\n",
    "import math\n",
    "from sklearn.preprocessing import MinMaxScaler\n",
    "from sklearn.metrics import mean_squared_error"
   ]
  },
  {
   "cell_type": "code",
   "execution_count": 5,
   "metadata": {},
   "outputs": [
    {
     "name": "stdout",
     "output_type": "stream",
     "text": [
      "2.8.0\n"
     ]
    }
   ],
   "source": [
    "\n",
    "import tensorflow as tf\n",
    "print(tf.__version__)"
   ]
  },
  {
   "cell_type": "code",
   "execution_count": 6,
   "metadata": {},
   "outputs": [
    {
     "name": "stdout",
     "output_type": "stream",
     "text": [
      "Datetime     0\n",
      "Open         0\n",
      "High         0\n",
      "Low          0\n",
      "Close        0\n",
      "Adj Close    0\n",
      "Volume       0\n",
      "Date         0\n",
      "dtype: int64\n"
     ]
    }
   ],
   "source": [
    "data = pd.DataFrame()\n",
    "data['Close']=df['Close']\n",
    "count_nan = len(df) - df.count()\n",
    "print(count_nan)"
   ]
  },
  {
   "cell_type": "code",
   "execution_count": 7,
   "metadata": {},
   "outputs": [],
   "source": [
    "#Converting the dataframe to a numpy array\n",
    "dataset = data.values\n",
    "#Get /Compute the number of rows to train the model on\n",
    "# training_data_len = math.ceil( len(dataset) *.6)\n",
    "training_data_len = math.ceil( len(dataset)*.95) \n",
    "\n",
    "\n",
    "\n",
    "#Scale the all of the data to be values between 0 and 1 \n",
    "scaler = MinMaxScaler(feature_range=(0, 1)) \n",
    "scaled_data = scaler.fit_transform(dataset)\n",
    "\n",
    "\n",
    "#Create the scaled training data set \n",
    "train_data = scaled_data[0:training_data_len  , : ]\n",
    "#Split the data into x_train and y_train data sets\n",
    "x_train=[]\n",
    "y_train = []\n",
    "for i in range(60,len(train_data)):\n",
    "    x_train.append(train_data[i-60:i,0])\n",
    "    y_train.append(train_data[i,0])\n",
    "\n",
    "\n",
    "#Convert x_train and y_train to numpy arrays\n",
    "x_train, y_train = np.array(x_train), np.array(y_train)    \n",
    "\n",
    "\n",
    "#Reshape the data into the shape accepted by the LSTM\n",
    "x_train = np.reshape(x_train, (x_train.shape[0],x_train.shape[1],1))"
   ]
  },
  {
   "cell_type": "code",
   "execution_count": 8,
   "metadata": {},
   "outputs": [],
   "source": [
    "#Test data set\n",
    "test_data = scaled_data[training_data_len - 60: , : ]\n",
    "#Create the x_test and y_test data sets\n",
    "x_test = []\n",
    "y_test =  dataset[training_data_len : , : ] \n",
    "for i in range(60,len(test_data)):\n",
    "    x_test.append(test_data[i-60:i,0])\n",
    "\n",
    "\n",
    "\n",
    "#Convert x_test to a numpy array \n",
    "x_test = np.array(x_test)\n",
    "\n",
    "#Reshape the data into the shape accepted by the LSTM\n",
    "x_test = np.reshape(x_test, (x_test.shape[0],x_test.shape[1],1))"
   ]
  },
  {
   "cell_type": "code",
   "execution_count": 9,
   "metadata": {},
   "outputs": [],
   "source": [
    "dataDimension = int(x_train.shape[1]) "
   ]
  },
  {
   "cell_type": "code",
   "execution_count": 10,
   "metadata": {},
   "outputs": [
    {
     "data": {
      "text/plain": [
       "True"
      ]
     },
     "execution_count": 10,
     "metadata": {},
     "output_type": "execute_result"
    }
   ],
   "source": [
    "cell = \"FastRNN\" \n",
    " \n",
    "inputDims = 1 #features taken in by RNN in one timestep\n",
    "hiddenDims = 50 #hidden state of RNN\n",
    " \n",
    "totalEpochs = 8\n",
    "batchSize = 64\n",
    " \n",
    "learningRate = 0.001 \n",
    "decayStep = 50\n",
    "decayRate = 0.1\n",
    " \n",
    "outFile = None\n",
    " \n",
    "\n",
    "wRank = None \n",
    "uRank = None \n",
    " \n",
    "\n",
    "sW = 1.0 \n",
    "sU = 1.0\n",
    " \n",
    "#Non-linearities for the RNN architecture. Can choose from \"tanh, sigmoid, relu, quantTanh, quantSigm\"\n",
    "update_non_linearity = \"relu\"\n",
    "gate_non_linearity = \"relu\"\n",
    "\n",
    "\n",
    "cell == \"FastRNN\""
   ]
  },
  {
   "cell_type": "code",
   "execution_count": 11,
   "metadata": {},
   "outputs": [
    {
     "name": "stdout",
     "output_type": "stream",
     "text": [
      "(12672, 60, 1)\n",
      "(670, 60, 1)\n",
      "(12672, 60, 1)\n",
      "(670, 60, 1)\n"
     ]
    }
   ],
   "source": [
    "print(x_train.shape)\n",
    "x_train = np.reshape(x_train,[x_train.shape[0],x_train.shape[1],1])\n",
    "print(x_test.shape)\n",
    "x_test = np.reshape(x_test,[x_test.shape[0],x_test.shape[1],1])\n",
    "print(x_train.shape)\n",
    "print(x_test.shape)"
   ]
  },
  {
   "cell_type": "code",
   "execution_count": 12,
   "metadata": {},
   "outputs": [
    {
     "name": "stdout",
     "output_type": "stream",
     "text": [
      "Epoch 1/100\n",
      "198/198 [==============================] - 30s 121ms/step - loss: 0.0047\n",
      "Epoch 2/100\n",
      "198/198 [==============================] - 25s 125ms/step - loss: 1.9773e-04\n",
      "Epoch 3/100\n",
      "198/198 [==============================] - 29s 148ms/step - loss: 1.1614e-04\n",
      "Epoch 4/100\n",
      "198/198 [==============================] - 45s 225ms/step - loss: 1.0150e-04\n",
      "Epoch 5/100\n",
      "198/198 [==============================] - 47s 234ms/step - loss: 7.9788e-05\n",
      "Epoch 6/100\n",
      "198/198 [==============================] - 51s 257ms/step - loss: 8.0843e-05\n",
      "Epoch 7/100\n",
      "198/198 [==============================] - 59s 300ms/step - loss: 7.2175e-05\n",
      "Epoch 8/100\n",
      "198/198 [==============================] - 52s 265ms/step - loss: 7.4748e-05\n",
      "Epoch 9/100\n",
      "198/198 [==============================] - 54s 271ms/step - loss: 7.3465e-05\n",
      "Epoch 10/100\n",
      "198/198 [==============================] - 55s 275ms/step - loss: 7.6397e-05\n",
      "Epoch 11/100\n",
      "198/198 [==============================] - 51s 257ms/step - loss: 7.2919e-05\n",
      "Epoch 12/100\n",
      "198/198 [==============================] - 54s 274ms/step - loss: 6.3371e-05\n",
      "Epoch 13/100\n",
      "198/198 [==============================] - 52s 262ms/step - loss: 6.5536e-05\n",
      "Epoch 14/100\n",
      "198/198 [==============================] - 52s 264ms/step - loss: 7.1935e-05\n",
      "Epoch 15/100\n",
      "198/198 [==============================] - 52s 265ms/step - loss: 7.0550e-05\n",
      "Epoch 16/100\n",
      "198/198 [==============================] - 58s 295ms/step - loss: 6.4392e-05\n",
      "Epoch 17/100\n",
      "198/198 [==============================] - 52s 264ms/step - loss: 6.5056e-05\n",
      "Epoch 18/100\n",
      "198/198 [==============================] - 53s 268ms/step - loss: 6.3591e-05\n",
      "Epoch 19/100\n",
      "198/198 [==============================] - 53s 270ms/step - loss: 5.9614e-05\n",
      "Epoch 20/100\n",
      "198/198 [==============================] - 60s 301ms/step - loss: 6.5403e-05\n",
      "Epoch 21/100\n",
      "198/198 [==============================] - 58s 290ms/step - loss: 6.1826e-05\n",
      "Epoch 22/100\n",
      "198/198 [==============================] - 60s 301ms/step - loss: 6.6991e-05\n",
      "Epoch 23/100\n",
      "198/198 [==============================] - 56s 285ms/step - loss: 6.2045e-05\n",
      "Epoch 24/100\n",
      "198/198 [==============================] - 57s 289ms/step - loss: 6.0347e-05\n",
      "Epoch 25/100\n",
      "198/198 [==============================] - 53s 270ms/step - loss: 5.7263e-05\n",
      "Epoch 26/100\n",
      "198/198 [==============================] - 57s 290ms/step - loss: 7.0149e-05\n",
      "Epoch 27/100\n",
      "198/198 [==============================] - 53s 266ms/step - loss: 6.8569e-05\n",
      "Epoch 28/100\n",
      "198/198 [==============================] - 58s 293ms/step - loss: 5.5141e-05\n",
      "Epoch 29/100\n",
      "198/198 [==============================] - 53s 268ms/step - loss: 6.3960e-05\n",
      "Epoch 30/100\n",
      "198/198 [==============================] - 55s 276ms/step - loss: 6.1937e-05\n",
      "Epoch 31/100\n",
      "198/198 [==============================] - 46s 231ms/step - loss: 5.5683e-05\n",
      "Epoch 32/100\n",
      "198/198 [==============================] - 51s 258ms/step - loss: 5.6767e-05\n",
      "Epoch 33/100\n",
      "198/198 [==============================] - 52s 259ms/step - loss: 6.0424e-05\n",
      "Epoch 34/100\n",
      "198/198 [==============================] - 52s 262ms/step - loss: 6.2815e-05\n",
      "Epoch 35/100\n",
      "198/198 [==============================] - 50s 252ms/step - loss: 5.7235e-05\n",
      "Epoch 36/100\n",
      "198/198 [==============================] - 742s 4s/step - loss: 6.7053e-05\n",
      "Epoch 37/100\n",
      "198/198 [==============================] - 49s 245ms/step - loss: 5.9027e-05\n",
      "Epoch 38/100\n",
      "198/198 [==============================] - 53s 269ms/step - loss: 5.0089e-05\n",
      "Epoch 39/100\n",
      "198/198 [==============================] - 59s 299ms/step - loss: 5.3909e-05\n",
      "Epoch 40/100\n",
      "198/198 [==============================] - 54s 272ms/step - loss: 5.1056e-05\n",
      "Epoch 41/100\n",
      "198/198 [==============================] - 54s 274ms/step - loss: 5.2571e-05\n",
      "Epoch 42/100\n",
      "198/198 [==============================] - 56s 282ms/step - loss: 5.0986e-05\n",
      "Epoch 43/100\n",
      "198/198 [==============================] - 58s 296ms/step - loss: 6.1431e-05\n",
      "Epoch 44/100\n",
      "198/198 [==============================] - 55s 277ms/step - loss: 5.1837e-05\n",
      "Epoch 45/100\n",
      "198/198 [==============================] - 55s 278ms/step - loss: 5.5762e-05\n",
      "Epoch 46/100\n",
      "198/198 [==============================] - 55s 278ms/step - loss: 5.4244e-05\n",
      "Epoch 47/100\n",
      "198/198 [==============================] - 55s 277ms/step - loss: 5.2510e-05\n",
      "Epoch 48/100\n",
      "198/198 [==============================] - 59s 297ms/step - loss: 5.3551e-05\n",
      "Epoch 49/100\n",
      "198/198 [==============================] - 57s 290ms/step - loss: 5.9982e-05\n",
      "Epoch 50/100\n",
      "198/198 [==============================] - 55s 277ms/step - loss: 5.2321e-05\n",
      "Epoch 51/100\n",
      "198/198 [==============================] - 55s 280ms/step - loss: 5.0350e-05\n",
      "Epoch 52/100\n",
      "198/198 [==============================] - 57s 286ms/step - loss: 5.1601e-05\n",
      "Epoch 53/100\n",
      "198/198 [==============================] - 58s 294ms/step - loss: 5.0062e-05\n",
      "Epoch 54/100\n",
      "198/198 [==============================] - 55s 278ms/step - loss: 4.7889e-05\n",
      "Epoch 55/100\n",
      "198/198 [==============================] - 61s 306ms/step - loss: 5.1298e-05\n",
      "Epoch 56/100\n",
      "198/198 [==============================] - 58s 293ms/step - loss: 5.6998e-05\n",
      "Epoch 57/100\n",
      "198/198 [==============================] - 56s 280ms/step - loss: 4.7006e-05\n",
      "Epoch 58/100\n",
      "198/198 [==============================] - 59s 297ms/step - loss: 4.8192e-05\n",
      "Epoch 59/100\n",
      "198/198 [==============================] - 55s 276ms/step - loss: 5.0951e-05\n",
      "Epoch 60/100\n",
      "198/198 [==============================] - 59s 301ms/step - loss: 4.6953e-05\n",
      "Epoch 61/100\n",
      "198/198 [==============================] - 56s 283ms/step - loss: 4.6024e-05\n",
      "Epoch 62/100\n",
      "198/198 [==============================] - 64s 320ms/step - loss: 4.8737e-05\n",
      "Epoch 63/100\n",
      "198/198 [==============================] - 51s 256ms/step - loss: 5.8839e-05\n",
      "Epoch 64/100\n",
      "198/198 [==============================] - 74s 374ms/step - loss: 4.8836e-05\n",
      "Epoch 65/100\n",
      "198/198 [==============================] - 78s 395ms/step - loss: 5.5646e-05\n",
      "Epoch 66/100\n",
      "198/198 [==============================] - 77s 389ms/step - loss: 4.6489e-05\n",
      "Epoch 67/100\n",
      "198/198 [==============================] - 81s 408ms/step - loss: 5.4232e-05\n",
      "Epoch 68/100\n",
      "198/198 [==============================] - 80s 403ms/step - loss: 4.5865e-05\n",
      "Epoch 69/100\n",
      "198/198 [==============================] - 81s 406ms/step - loss: 5.5595e-05\n",
      "Epoch 70/100\n",
      "198/198 [==============================] - 81s 409ms/step - loss: 4.7990e-05\n",
      "Epoch 71/100\n",
      "198/198 [==============================] - 85s 431ms/step - loss: 5.1161e-05\n",
      "Epoch 72/100\n",
      "198/198 [==============================] - 78s 397ms/step - loss: 4.2942e-05\n",
      "Epoch 73/100\n",
      "198/198 [==============================] - 79s 400ms/step - loss: 4.1665e-05\n",
      "Epoch 74/100\n",
      "198/198 [==============================] - 90s 455ms/step - loss: 4.7656e-05\n",
      "Epoch 75/100\n",
      "198/198 [==============================] - 74s 373ms/step - loss: 4.7085e-05\n",
      "Epoch 76/100\n",
      "198/198 [==============================] - 81s 410ms/step - loss: 4.8175e-05\n",
      "Epoch 77/100\n",
      "198/198 [==============================] - 87s 438ms/step - loss: 4.7521e-05\n",
      "Epoch 78/100\n",
      "198/198 [==============================] - 81s 407ms/step - loss: 4.6411e-05\n",
      "Epoch 79/100\n",
      "198/198 [==============================] - 77s 389ms/step - loss: 4.6044e-05\n",
      "Epoch 80/100\n",
      "198/198 [==============================] - 73s 370ms/step - loss: 5.0707e-05\n",
      "Epoch 81/100\n",
      "198/198 [==============================] - 82s 416ms/step - loss: 4.8922e-05\n",
      "Epoch 82/100\n",
      "198/198 [==============================] - 82s 413ms/step - loss: 4.4762e-05\n",
      "Epoch 83/100\n",
      "198/198 [==============================] - 83s 419ms/step - loss: 4.8708e-05\n",
      "Epoch 84/100\n",
      "198/198 [==============================] - 83s 418ms/step - loss: 4.6356e-05\n",
      "Epoch 85/100\n",
      "198/198 [==============================] - 81s 408ms/step - loss: 4.2987e-05\n",
      "Epoch 86/100\n",
      "198/198 [==============================] - 79s 399ms/step - loss: 4.5351e-05\n",
      "Epoch 87/100\n",
      "198/198 [==============================] - 80s 406ms/step - loss: 4.7964e-05\n",
      "Epoch 88/100\n",
      "198/198 [==============================] - 80s 407ms/step - loss: 4.7624e-05\n",
      "Epoch 89/100\n",
      "198/198 [==============================] - 82s 410ms/step - loss: 4.4573e-05\n",
      "Epoch 90/100\n",
      "198/198 [==============================] - 79s 397ms/step - loss: 4.5885e-05\n",
      "Epoch 91/100\n",
      "198/198 [==============================] - 80s 404ms/step - loss: 4.3331e-05\n",
      "Epoch 92/100\n"
     ]
    },
    {
     "name": "stdout",
     "output_type": "stream",
     "text": [
      "198/198 [==============================] - 79s 399ms/step - loss: 4.1894e-05\n",
      "Epoch 93/100\n",
      "198/198 [==============================] - 83s 419ms/step - loss: 4.5119e-05\n",
      "Epoch 94/100\n",
      "198/198 [==============================] - 77s 390ms/step - loss: 4.5924e-05\n",
      "Epoch 95/100\n",
      "198/198 [==============================] - 76s 384ms/step - loss: 4.5397e-05\n",
      "Epoch 96/100\n",
      "198/198 [==============================] - 74s 376ms/step - loss: 4.6417e-05\n",
      "Epoch 97/100\n",
      "198/198 [==============================] - 88s 444ms/step - loss: 4.0913e-05\n",
      "Epoch 98/100\n",
      "198/198 [==============================] - 73s 370ms/step - loss: 4.7210e-05\n",
      "Epoch 99/100\n",
      "198/198 [==============================] - 87s 442ms/step - loss: 4.3595e-05\n",
      "Epoch 100/100\n",
      "198/198 [==============================] - 81s 412ms/step - loss: 4.4811e-05\n"
     ]
    },
    {
     "data": {
      "image/png": "[encoded data removed]",
      "text/plain": [
       "<Figure size 432x288 with 1 Axes>"
      ]
     },
     "metadata": {
      "needs_background": "light"
     },
     "output_type": "display_data"
    }
   ],
   "source": [
    "from keras.models import Sequential\n",
    "from keras.layers import Dense\n",
    "from keras.layers import SimpleRNN\n",
    "from keras.layers import Dropout\n",
    "import matplotlib.pyplot as plt\n",
    "\n",
    "#Initialize RNN:\n",
    "regressor = Sequential()\n",
    "\n",
    "#Adding the first RNN layer and some Dropout regularization\n",
    "regressor.add(SimpleRNN(units = 50, activation='tanh', return_sequences=True, input_shape= (x_train.shape[1],1)))\n",
    "regressor.add(Conv1D(filters=200, kernel_size=3 , padding='same', activation='relu', name='Conv1D'))\n",
    "regressor.add(MaxPooling1D(pool_size=1,name='MaxPooling1D'))\n",
    "\n",
    "\n",
    "#Adding the second RNN layer and some Dropout regularization\n",
    "regressor.add(Bidirectional(LSTM(units=50, return_sequences=False)))\n",
    "regressor.add(Dense(1))\n",
    "# Compile the model\n",
    "regressor.compile(optimizer='adam', loss='mean_squared_error')\n",
    "\n",
    "# Train the model\n",
    "history = regressor.fit(x_train, y_train, batch_size=64, epochs=100)\n",
    "\n",
    "# Get training and test loss histories\n",
    "training_loss = history.history['loss']\n",
    "# Create count of the number of epochs\n",
    "epoch_count = range(1, len(training_loss) + 1)\n",
    "\n",
    "# Visualize loss history\n",
    "plt.plot(epoch_count, training_loss, 'r--')\n",
    "plt.legend(['Training Loss'])\n",
    "plt.xlabel('Epoch')\n",
    "plt.ylabel('Loss')\n",
    "plt.show();"
   ]
  },
  {
   "cell_type": "code",
   "execution_count": 13,
   "metadata": {},
   "outputs": [
    {
     "name": "stdout",
     "output_type": "stream",
     "text": [
      "Model: \"sequential\"\n",
      "_________________________________________________________________\n",
      " Layer (type)                Output Shape              Param #   \n",
      "=================================================================\n",
      " simple_rnn (SimpleRNN)      (None, 60, 50)            2600      \n",
      "                                                                 \n",
      " Conv1D (Conv1D)             (None, 60, 200)           30200     \n",
      "                                                                 \n",
      " MaxPooling1D (MaxPooling1D)  (None, 60, 200)          0         \n",
      "                                                                 \n",
      " bidirectional (Bidirectiona  (None, 100)              100400    \n",
      " l)                                                              \n",
      "                                                                 \n",
      " dense (Dense)               (None, 1)                 101       \n",
      "                                                                 \n",
      "=================================================================\n",
      "Total params: 133,301\n",
      "Trainable params: 133,301\n",
      "Non-trainable params: 0\n",
      "_________________________________________________________________\n"
     ]
    }
   ],
   "source": [
    "regressor.summary()"
   ]
  },
  {
   "cell_type": "code",
   "execution_count": 14,
   "metadata": {},
   "outputs": [
    {
     "data": {
      "text/plain": [
       "0.13973667053108868"
      ]
     },
     "execution_count": 14,
     "metadata": {},
     "output_type": "execute_result"
    }
   ],
   "source": [
    "# Get the models predicted price values \n",
    "predictions = regressor.predict(x_test)\n",
    "predictions = scaler.inverse_transform(predictions)\n",
    "\n",
    "# Get the root mean squared error (RMSE)\n",
    "rmse = np.sqrt(np.mean(((predictions - y_test) ** 2)))\n",
    "rmse\n"
   ]
  },
  {
   "cell_type": "code",
   "execution_count": 15,
   "metadata": {},
   "outputs": [
    {
     "name": "stderr",
     "output_type": "stream",
     "text": [
      "<ipython-input-15-ffc677cae395>:7: SettingWithCopyWarning: \n",
      "A value is trying to be set on a copy of a slice from a DataFrame.\n",
      "Try using .loc[row_indexer,col_indexer] = value instead\n",
      "\n",
      "See the caveats in the documentation: https://pandas.pydata.org/pandas-docs/stable/user_guide/indexing.html#returning-a-view-versus-a-copy\n",
      "  valid_3['Predictions'] = predictions\n"
     ]
    },
    {
     "data": {
      "text/plain": [
       "0.06311805675174702"
      ]
     },
     "execution_count": 15,
     "metadata": {},
     "output_type": "execute_result"
    }
   ],
   "source": [
    "def mape(actual, pred): \n",
    "    actual, pred = np.array(actual), np.array(pred)\n",
    "    return np.mean(np.abs((actual - pred) / actual)) * 100\n",
    "\n",
    "train = data[:training_data_len]\n",
    "valid_3 = data[training_data_len:]\n",
    "valid_3['Predictions'] = predictions\n",
    "\n",
    "mape(valid_3['Close'], valid_3['Predictions'])"
   ]
  },
  {
   "cell_type": "code",
   "execution_count": 16,
   "metadata": {},
   "outputs": [
    {
     "data": {
      "image/png": "[encoded data removed]",
      "text/plain": [
       "<Figure size 1152x432 with 1 Axes>"
      ]
     },
     "metadata": {
      "needs_background": "light"
     },
     "output_type": "display_data"
    }
   ],
   "source": [
    "import matplotlib.pyplot as plt\n",
    "plt.figure(figsize=(16,6))\n",
    "plt.title('Predicted Model - Apple')\n",
    "plt.xlabel('Index', fontsize=18)\n",
    "plt.ylabel('Close Price ($)', fontsize=18)\n",
    "#plt.plot(train['Close'], 'b-', label = 'train')\n",
    "plt.plot(predictions,'r-', label = 'predict')\n",
    "plt.plot(y_test,'b-', label = 'actual')\n",
    "#plt.legend(['Train', 'Val', 'Predictions'], loc='lower right')\n",
    "plt.show()"
   ]
  },
  {
   "cell_type": "code",
   "execution_count": null,
   "metadata": {},
   "outputs": [],
   "source": []
  }
 ],
 "metadata": {
  "kernelspec": {
   "display_name": "Python 3",
   "language": "python",
   "name": "python3"
  },
  "language_info": {
   "codemirror_mode": {
    "name": "ipython",
    "version": 3
   },
   "file_extension": ".py",
   "mimetype": "text/x-python",
   "name": "python",
   "nbconvert_exporter": "python",
   "pygments_lexer": "ipython3",
   "version": "3.8.5"
  }
 },
 "nbformat": 4,
 "nbformat_minor": 4
}
