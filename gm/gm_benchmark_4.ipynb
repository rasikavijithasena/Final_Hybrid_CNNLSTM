{
 "cells": [
  {
   "cell_type": "code",
   "execution_count": 1,
   "metadata": {},
   "outputs": [],
   "source": [
    "import pandas as pd\n",
    "from datetime import datetime\n",
    "import time\n",
    "import numpy as np\n",
    "import pandas as pd\n",
    "import io"
   ]
  },
  {
   "cell_type": "code",
   "execution_count": 2,
   "metadata": {},
   "outputs": [],
   "source": [
    "df = pd.read_csv('gm_merge.csv')\n",
    "# Inspect the data\n",
    "\n",
    "df['Date'] = df['Datetime'].str[:-6]\n",
    "df['Date']=pd.to_datetime(df[\"Date\"]).dt.strftime(\"%Y-%m-%d %H:%M:%S\")"
   ]
  },
  {
   "cell_type": "code",
   "execution_count": 3,
   "metadata": {},
   "outputs": [],
   "source": [
    "data_date = df.filter(['Date'])\n",
    "\n",
    "data_date = data_date.values\n",
    "# Get the number of rows to train the model on\n",
    "training_data_date = int(np.ceil( len(data_date) * .95 ))\n",
    "train_data_date = data_date[0:int(training_data_date), :]"
   ]
  },
  {
   "cell_type": "code",
   "execution_count": 4,
   "metadata": {},
   "outputs": [],
   "source": [
    "import tensorflow.keras.layers\n",
    "from tensorflow.keras.models import Sequential\n",
    "from tensorflow.keras.layers import Dense, LSTM\n",
    "from tensorflow.keras.optimizers import Adam\n",
    "from tensorflow.keras.layers import Conv1D\n",
    "from tensorflow.keras.layers import MaxPooling1D\n",
    "from tensorflow.keras.layers import Bidirectional\n",
    "from tensorflow.keras.layers import Dense, Input, Embedding, Dropout, Activation, Conv1D\n",
    "from tensorflow.keras.layers import Dense, Input, RNN\n",
    "from tensorflow.keras.models import Model, Sequential, load_model\n",
    "from tensorflow.keras import backend as K\n",
    "from tensorflow.keras.optimizers import Adam\n",
    "\n",
    "import math\n",
    "from sklearn.preprocessing import MinMaxScaler\n",
    "from sklearn.metrics import mean_squared_error"
   ]
  },
  {
   "cell_type": "code",
   "execution_count": 5,
   "metadata": {},
   "outputs": [
    {
     "name": "stdout",
     "output_type": "stream",
     "text": [
      "2.8.0\n"
     ]
    }
   ],
   "source": [
    "\n",
    "import tensorflow as tf\n",
    "print(tf.__version__)"
   ]
  },
  {
   "cell_type": "code",
   "execution_count": 6,
   "metadata": {},
   "outputs": [
    {
     "name": "stdout",
     "output_type": "stream",
     "text": [
      "Datetime     0\n",
      "Open         0\n",
      "High         0\n",
      "Low          0\n",
      "Close        0\n",
      "Adj Close    0\n",
      "Volume       0\n",
      "Date         0\n",
      "dtype: int64\n"
     ]
    }
   ],
   "source": [
    "data = pd.DataFrame()\n",
    "data['Close']=df['Close']\n",
    "count_nan = len(df) - df.count()\n",
    "print(count_nan)"
   ]
  },
  {
   "cell_type": "code",
   "execution_count": 7,
   "metadata": {},
   "outputs": [],
   "source": [
    "#Converting the dataframe to a numpy array\n",
    "dataset = data.values\n",
    "#Get /Compute the number of rows to train the model on\n",
    "# training_data_len = math.ceil( len(dataset) *.6)\n",
    "training_data_len = math.ceil( len(dataset)*.95) \n",
    "\n",
    "\n",
    "\n",
    "#Scale the all of the data to be values between 0 and 1 \n",
    "scaler = MinMaxScaler(feature_range=(0, 1)) \n",
    "scaled_data = scaler.fit_transform(dataset)\n",
    "\n",
    "\n",
    "#Create the scaled training data set \n",
    "train_data = scaled_data[0:training_data_len  , : ]\n",
    "#Split the data into x_train and y_train data sets\n",
    "x_train=[]\n",
    "y_train = []\n",
    "for i in range(60,len(train_data)):\n",
    "    x_train.append(train_data[i-60:i,0])\n",
    "    y_train.append(train_data[i,0])\n",
    "\n",
    "\n",
    "#Convert x_train and y_train to numpy arrays\n",
    "x_train, y_train = np.array(x_train), np.array(y_train)    \n",
    "\n",
    "\n",
    "#Reshape the data into the shape accepted by the LSTM\n",
    "x_train = np.reshape(x_train, (x_train.shape[0],x_train.shape[1],1))"
   ]
  },
  {
   "cell_type": "code",
   "execution_count": 8,
   "metadata": {},
   "outputs": [],
   "source": [
    "#Test data set\n",
    "test_data = scaled_data[training_data_len - 60: , : ]\n",
    "#Create the x_test and y_test data sets\n",
    "x_test = []\n",
    "y_test =  dataset[training_data_len : , : ] \n",
    "for i in range(60,len(test_data)):\n",
    "    x_test.append(test_data[i-60:i,0])\n",
    "\n",
    "\n",
    "\n",
    "#Convert x_test to a numpy array \n",
    "x_test = np.array(x_test)\n",
    "\n",
    "#Reshape the data into the shape accepted by the LSTM\n",
    "x_test = np.reshape(x_test, (x_test.shape[0],x_test.shape[1],1))"
   ]
  },
  {
   "cell_type": "code",
   "execution_count": 9,
   "metadata": {},
   "outputs": [],
   "source": [
    "dataDimension = int(x_train.shape[1]) "
   ]
  },
  {
   "cell_type": "code",
   "execution_count": 10,
   "metadata": {},
   "outputs": [
    {
     "data": {
      "text/plain": [
       "True"
      ]
     },
     "execution_count": 10,
     "metadata": {},
     "output_type": "execute_result"
    }
   ],
   "source": [
    "cell = \"FastRNN\" \n",
    " \n",
    "inputDims = 1 #features taken in by RNN in one timestep\n",
    "hiddenDims = 50 #hidden state of RNN\n",
    " \n",
    "totalEpochs = 8\n",
    "batchSize = 64\n",
    " \n",
    "learningRate = 0.001 \n",
    "decayStep = 50\n",
    "decayRate = 0.1\n",
    " \n",
    "outFile = None\n",
    " \n",
    "\n",
    "wRank = None \n",
    "uRank = None \n",
    " \n",
    "\n",
    "sW = 1.0 \n",
    "sU = 1.0\n",
    " \n",
    "#Non-linearities for the RNN architecture. Can choose from \"tanh, sigmoid, relu, quantTanh, quantSigm\"\n",
    "update_non_linearity = \"relu\"\n",
    "gate_non_linearity = \"relu\"\n",
    "\n",
    "\n",
    "cell == \"FastRNN\""
   ]
  },
  {
   "cell_type": "code",
   "execution_count": 11,
   "metadata": {},
   "outputs": [
    {
     "name": "stdout",
     "output_type": "stream",
     "text": [
      "(6604, 60, 1)\n",
      "(350, 60, 1)\n",
      "(6604, 60, 1)\n",
      "(350, 60, 1)\n"
     ]
    }
   ],
   "source": [
    "print(x_train.shape)\n",
    "x_train = np.reshape(x_train,[x_train.shape[0],x_train.shape[1],1])\n",
    "print(x_test.shape)\n",
    "x_test = np.reshape(x_test,[x_test.shape[0],x_test.shape[1],1])\n",
    "print(x_train.shape)\n",
    "print(x_test.shape)"
   ]
  },
  {
   "cell_type": "code",
   "execution_count": 12,
   "metadata": {},
   "outputs": [
    {
     "name": "stdout",
     "output_type": "stream",
     "text": [
      "Epoch 1/100\n",
      "104/104 [==============================] - 14s 116ms/step - loss: 0.0108\n",
      "Epoch 2/100\n",
      "104/104 [==============================] - 9s 89ms/step - loss: 2.7787e-04\n",
      "Epoch 3/100\n",
      "104/104 [==============================] - 14s 137ms/step - loss: 2.1734e-04\n",
      "Epoch 4/100\n",
      "104/104 [==============================] - 20s 188ms/step - loss: 1.5491e-04\n",
      "Epoch 5/100\n",
      "104/104 [==============================] - 24s 234ms/step - loss: 1.2038e-04\n",
      "Epoch 6/100\n",
      "104/104 [==============================] - 25s 246ms/step - loss: 1.2036e-04\n",
      "Epoch 7/100\n",
      "104/104 [==============================] - 36s 348ms/step - loss: 1.2203e-04\n",
      "Epoch 8/100\n",
      "104/104 [==============================] - 43s 412ms/step - loss: 9.6805e-05\n",
      "Epoch 9/100\n",
      "104/104 [==============================] - 38s 365ms/step - loss: 8.2156e-05\n",
      "Epoch 10/100\n",
      "104/104 [==============================] - 44s 429ms/step - loss: 9.4475e-05\n",
      "Epoch 11/100\n",
      "104/104 [==============================] - 44s 423ms/step - loss: 9.4052e-05\n",
      "Epoch 12/100\n",
      "104/104 [==============================] - 42s 406ms/step - loss: 7.7989e-05\n",
      "Epoch 13/100\n",
      "104/104 [==============================] - 46s 442ms/step - loss: 7.7339e-05\n",
      "Epoch 14/100\n",
      "104/104 [==============================] - 50s 482ms/step - loss: 8.6390e-05\n",
      "Epoch 15/100\n",
      "104/104 [==============================] - 56s 543ms/step - loss: 7.6920e-05\n",
      "Epoch 16/100\n",
      "104/104 [==============================] - 57s 541ms/step - loss: 7.2599e-05\n",
      "Epoch 17/100\n",
      "104/104 [==============================] - 45s 433ms/step - loss: 6.7168e-05\n",
      "Epoch 18/100\n",
      "104/104 [==============================] - 50s 487ms/step - loss: 7.4961e-05\n",
      "Epoch 19/100\n",
      "104/104 [==============================] - 49s 478ms/step - loss: 7.6607e-05\n",
      "Epoch 20/100\n",
      "104/104 [==============================] - 55s 535ms/step - loss: 6.1821e-05\n",
      "Epoch 21/100\n",
      "104/104 [==============================] - 52s 495ms/step - loss: 6.8438e-05\n",
      "Epoch 22/100\n",
      "104/104 [==============================] - 51s 494ms/step - loss: 7.6023e-05\n",
      "Epoch 23/100\n",
      "104/104 [==============================] - 54s 522ms/step - loss: 1.0415e-04\n",
      "Epoch 24/100\n",
      "104/104 [==============================] - 52s 499ms/step - loss: 5.6771e-05\n",
      "Epoch 25/100\n",
      "104/104 [==============================] - 51s 491ms/step - loss: 6.4424e-05\n",
      "Epoch 26/100\n",
      "104/104 [==============================] - 45s 439ms/step - loss: 8.7531e-05\n",
      "Epoch 27/100\n",
      "104/104 [==============================] - 52s 500ms/step - loss: 5.5106e-05\n",
      "Epoch 28/100\n",
      "104/104 [==============================] - 51s 494ms/step - loss: 7.6711e-05\n",
      "Epoch 29/100\n",
      "104/104 [==============================] - 54s 518ms/step - loss: 6.5473e-05\n",
      "Epoch 30/100\n",
      "104/104 [==============================] - 54s 514ms/step - loss: 6.1393e-05\n",
      "Epoch 31/100\n",
      "104/104 [==============================] - 45s 430ms/step - loss: 6.5974e-05\n",
      "Epoch 32/100\n",
      "104/104 [==============================] - 41s 398ms/step - loss: 5.3277e-05\n",
      "Epoch 33/100\n",
      "104/104 [==============================] - 36s 351ms/step - loss: 1.2193e-04\n",
      "Epoch 34/100\n",
      "104/104 [==============================] - 46s 444ms/step - loss: 6.7770e-05\n",
      "Epoch 35/100\n",
      "104/104 [==============================] - 38s 369ms/step - loss: 5.7935e-05\n",
      "Epoch 36/100\n",
      "104/104 [==============================] - 50s 486ms/step - loss: 7.7257e-05\n",
      "Epoch 37/100\n",
      "104/104 [==============================] - 49s 478ms/step - loss: 6.4054e-05\n",
      "Epoch 38/100\n",
      "104/104 [==============================] - 41s 398ms/step - loss: 6.6555e-05\n",
      "Epoch 39/100\n",
      "104/104 [==============================] - 40s 382ms/step - loss: 6.2929e-05\n",
      "Epoch 40/100\n",
      "104/104 [==============================] - 36s 339ms/step - loss: 8.7619e-05\n",
      "Epoch 41/100\n",
      "104/104 [==============================] - 35s 334ms/step - loss: 6.8359e-05\n",
      "Epoch 42/100\n",
      "104/104 [==============================] - 35s 336ms/step - loss: 5.8375e-05\n",
      "Epoch 43/100\n",
      "104/104 [==============================] - 39s 379ms/step - loss: 5.8344e-05\n",
      "Epoch 44/100\n",
      "104/104 [==============================] - 36s 339ms/step - loss: 5.9304e-05\n",
      "Epoch 45/100\n",
      "104/104 [==============================] - 44s 429ms/step - loss: 7.2900e-05\n",
      "Epoch 46/100\n",
      "104/104 [==============================] - 37s 354ms/step - loss: 5.2284e-05\n",
      "Epoch 47/100\n",
      "104/104 [==============================] - 43s 412ms/step - loss: 5.6795e-05\n",
      "Epoch 48/100\n",
      "104/104 [==============================] - 45s 430ms/step - loss: 6.8490e-05\n",
      "Epoch 49/100\n",
      "104/104 [==============================] - 47s 454ms/step - loss: 5.7000e-05\n",
      "Epoch 50/100\n",
      "104/104 [==============================] - 49s 473ms/step - loss: 1.0389e-04\n",
      "Epoch 51/100\n",
      "104/104 [==============================] - 47s 453ms/step - loss: 7.0662e-05\n",
      "Epoch 52/100\n",
      "104/104 [==============================] - 52s 496ms/step - loss: 7.3855e-05\n",
      "Epoch 53/100\n",
      "104/104 [==============================] - 53s 513ms/step - loss: 4.7313e-05\n",
      "Epoch 54/100\n",
      "104/104 [==============================] - 42s 405ms/step - loss: 5.7930e-05\n",
      "Epoch 55/100\n",
      "104/104 [==============================] - 50s 480ms/step - loss: 5.6643e-05\n",
      "Epoch 56/100\n",
      "104/104 [==============================] - 49s 471ms/step - loss: 8.3679e-05\n",
      "Epoch 57/100\n",
      "104/104 [==============================] - 52s 501ms/step - loss: 9.9643e-05\n",
      "Epoch 58/100\n",
      "104/104 [==============================] - 39s 370ms/step - loss: 6.9025e-05\n",
      "Epoch 59/100\n",
      "104/104 [==============================] - 52s 499ms/step - loss: 4.4027e-05\n",
      "Epoch 60/100\n",
      "104/104 [==============================] - 46s 436ms/step - loss: 5.9639e-05\n",
      "Epoch 61/100\n",
      "104/104 [==============================] - 51s 496ms/step - loss: 5.5379e-05\n",
      "Epoch 62/100\n",
      "104/104 [==============================] - 48s 457ms/step - loss: 5.9906e-05\n",
      "Epoch 63/100\n",
      "104/104 [==============================] - 52s 493ms/step - loss: 5.9260e-05\n",
      "Epoch 64/100\n",
      "104/104 [==============================] - 50s 477ms/step - loss: 5.0871e-05\n",
      "Epoch 65/100\n",
      "104/104 [==============================] - 48s 462ms/step - loss: 4.6659e-05\n",
      "Epoch 66/100\n",
      "104/104 [==============================] - 51s 488ms/step - loss: 4.7977e-05\n",
      "Epoch 67/100\n",
      "104/104 [==============================] - 43s 420ms/step - loss: 5.4433e-05\n",
      "Epoch 68/100\n",
      "104/104 [==============================] - 46s 441ms/step - loss: 7.1839e-05\n",
      "Epoch 69/100\n",
      "104/104 [==============================] - 45s 431ms/step - loss: 8.4074e-05\n",
      "Epoch 70/100\n",
      "104/104 [==============================] - 39s 373ms/step - loss: 6.4424e-05\n",
      "Epoch 71/100\n",
      "104/104 [==============================] - 43s 418ms/step - loss: 5.9121e-05\n",
      "Epoch 72/100\n",
      "104/104 [==============================] - 35s 342ms/step - loss: 6.5811e-05\n",
      "Epoch 73/100\n",
      "104/104 [==============================] - 52s 503ms/step - loss: 5.9200e-05\n",
      "Epoch 74/100\n",
      "104/104 [==============================] - 47s 450ms/step - loss: 5.1372e-05\n",
      "Epoch 75/100\n",
      "104/104 [==============================] - 44s 422ms/step - loss: 5.5626e-05\n",
      "Epoch 76/100\n",
      "104/104 [==============================] - 37s 361ms/step - loss: 5.9255e-05\n",
      "Epoch 77/100\n",
      "104/104 [==============================] - 46s 436ms/step - loss: 7.4792e-05\n",
      "Epoch 78/100\n",
      "104/104 [==============================] - 43s 407ms/step - loss: 9.8029e-05\n",
      "Epoch 79/100\n",
      "104/104 [==============================] - 38s 370ms/step - loss: 4.8908e-05\n",
      "Epoch 80/100\n",
      "104/104 [==============================] - 46s 435ms/step - loss: 5.0822e-05\n",
      "Epoch 81/100\n",
      "104/104 [==============================] - 43s 412ms/step - loss: 4.7336e-05\n",
      "Epoch 82/100\n",
      "104/104 [==============================] - 43s 412ms/step - loss: 4.9772e-05\n",
      "Epoch 83/100\n",
      "104/104 [==============================] - 53s 514ms/step - loss: 5.3940e-05\n",
      "Epoch 84/100\n",
      "104/104 [==============================] - 59s 563ms/step - loss: 7.9189e-05\n",
      "Epoch 85/100\n",
      "104/104 [==============================] - 52s 501ms/step - loss: 4.7950e-05\n",
      "Epoch 86/100\n",
      "104/104 [==============================] - 57s 549ms/step - loss: 4.6148e-05\n",
      "Epoch 87/100\n",
      "104/104 [==============================] - 56s 529ms/step - loss: 6.5529e-05\n",
      "Epoch 88/100\n",
      "104/104 [==============================] - 56s 535ms/step - loss: 6.2057e-05\n",
      "Epoch 89/100\n",
      "104/104 [==============================] - 49s 473ms/step - loss: 5.3816e-05\n",
      "Epoch 90/100\n",
      "104/104 [==============================] - 49s 475ms/step - loss: 7.0899e-05\n",
      "Epoch 91/100\n",
      "104/104 [==============================] - 46s 447ms/step - loss: 4.9289e-05\n",
      "Epoch 92/100\n"
     ]
    },
    {
     "name": "stdout",
     "output_type": "stream",
     "text": [
      "104/104 [==============================] - 43s 411ms/step - loss: 5.1918e-05\n",
      "Epoch 93/100\n",
      "104/104 [==============================] - 46s 447ms/step - loss: 4.9416e-05\n",
      "Epoch 94/100\n",
      "104/104 [==============================] - 41s 399ms/step - loss: 6.1451e-05\n",
      "Epoch 95/100\n",
      "104/104 [==============================] - 43s 412ms/step - loss: 5.1122e-05\n",
      "Epoch 96/100\n",
      "104/104 [==============================] - 40s 390ms/step - loss: 5.7554e-05\n",
      "Epoch 97/100\n",
      "104/104 [==============================] - 35s 340ms/step - loss: 4.9107e-05\n",
      "Epoch 98/100\n",
      "104/104 [==============================] - 39s 373ms/step - loss: 4.9410e-05\n",
      "Epoch 99/100\n",
      "104/104 [==============================] - 41s 388ms/step - loss: 6.1737e-05\n",
      "Epoch 100/100\n",
      "104/104 [==============================] - 45s 434ms/step - loss: 4.9254e-05\n"
     ]
    },
    {
     "data": {
      "image/png": "[encoded data removed]",
      "text/plain": [
       "<Figure size 432x288 with 1 Axes>"
      ]
     },
     "metadata": {
      "needs_background": "light"
     },
     "output_type": "display_data"
    }
   ],
   "source": [
    "from keras.models import Sequential\n",
    "from keras.layers import Dense\n",
    "from keras.layers import SimpleRNN\n",
    "from keras.layers import Dropout\n",
    "import matplotlib.pyplot as plt\n",
    "\n",
    "#Initialize RNN:\n",
    "regressor = Sequential()\n",
    "\n",
    "#Adding the first RNN layer and some Dropout regularization\n",
    "regressor.add(SimpleRNN(units = 50, activation='tanh', return_sequences=True, input_shape= (x_train.shape[1],1)))\n",
    "regressor.add(Conv1D(filters=300, kernel_size=3 , padding='same', activation='relu', name='Conv1D'))\n",
    "regressor.add(MaxPooling1D(pool_size=1,name='MaxPooling1D'))\n",
    "\n",
    "\n",
    "#Adding the second RNN layer and some Dropout regularization\n",
    "regressor.add(Bidirectional(LSTM(units=50, return_sequences=False)))\n",
    "regressor.add(Dense(1))\n",
    "# Compile the model\n",
    "regressor.compile(optimizer='adam', loss='mean_squared_error')\n",
    "\n",
    "# Train the model\n",
    "history = regressor.fit(x_train, y_train, batch_size=64, epochs=100)\n",
    "\n",
    "# Get training and test loss histories\n",
    "training_loss = history.history['loss']\n",
    "# Create count of the number of epochs\n",
    "epoch_count = range(1, len(training_loss) + 1)\n",
    "\n",
    "# Visualize loss history\n",
    "plt.plot(epoch_count, training_loss, 'r--')\n",
    "plt.legend(['Training Loss'])\n",
    "plt.xlabel('Epoch')\n",
    "plt.ylabel('Loss')\n",
    "plt.show();"
   ]
  },
  {
   "cell_type": "code",
   "execution_count": 14,
   "metadata": {},
   "outputs": [
    {
     "data": {
      "text/plain": [
       "0.1728411990849783"
      ]
     },
     "execution_count": 14,
     "metadata": {},
     "output_type": "execute_result"
    }
   ],
   "source": [
    "# Get the models predicted price values \n",
    "predictions = regressor.predict(x_test)\n",
    "predictions = scaler.inverse_transform(predictions)\n",
    "\n",
    "# Get the root mean squared error (RMSE)\n",
    "rmse = np.sqrt(np.mean(((predictions - y_test) ** 2)))\n",
    "rmse\n"
   ]
  },
  {
   "cell_type": "code",
   "execution_count": 16,
   "metadata": {},
   "outputs": [
    {
     "name": "stderr",
     "output_type": "stream",
     "text": [
      "<ipython-input-16-5742caf560dd>:7: SettingWithCopyWarning: \n",
      "A value is trying to be set on a copy of a slice from a DataFrame.\n",
      "Try using .loc[row_indexer,col_indexer] = value instead\n",
      "\n",
      "See the caveats in the documentation: https://pandas.pydata.org/pandas-docs/stable/user_guide/indexing.html#returning-a-view-versus-a-copy\n",
      "  valid_3['Predictions'] = predictions\n"
     ]
    },
    {
     "data": {
      "text/plain": [
       "0.1984692988434668"
      ]
     },
     "execution_count": 16,
     "metadata": {},
     "output_type": "execute_result"
    }
   ],
   "source": [
    "def mape(actual, pred): \n",
    "    actual, pred = np.array(actual), np.array(pred)\n",
    "    return np.mean(np.abs((actual - pred) / actual)) * 100\n",
    "\n",
    "train = data[:training_data_len]\n",
    "valid_3 = data[training_data_len:]\n",
    "valid_3['Predictions'] = predictions\n",
    "\n",
    "mape(valid_3['Close'], valid_3['Predictions'])"
   ]
  },
  {
   "cell_type": "code",
   "execution_count": null,
   "metadata": {},
   "outputs": [],
   "source": []
  }
 ],
 "metadata": {
  "kernelspec": {
   "display_name": "Python 3",
   "language": "python",
   "name": "python3"
  },
  "language_info": {
   "codemirror_mode": {
    "name": "ipython",
    "version": 3
   },
   "file_extension": ".py",
   "mimetype": "text/x-python",
   "name": "python",
   "nbconvert_exporter": "python",
   "pygments_lexer": "ipython3",
   "version": "3.8.5"
  }
 },
 "nbformat": 4,
 "nbformat_minor": 4
}
