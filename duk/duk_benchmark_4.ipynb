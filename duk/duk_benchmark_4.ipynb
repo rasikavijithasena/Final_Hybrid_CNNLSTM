{
 "cells": [
  {
   "cell_type": "code",
   "execution_count": 1,
   "metadata": {},
   "outputs": [],
   "source": [
    "import pandas as pd\n",
    "from datetime import datetime\n",
    "import time\n",
    "import numpy as np\n",
    "import pandas as pd\n",
    "import io"
   ]
  },
  {
   "cell_type": "code",
   "execution_count": 2,
   "metadata": {},
   "outputs": [],
   "source": [
    "df = pd.read_csv('duk_merge.csv')\n",
    "# Inspect the data\n",
    "\n",
    "df['Date'] = df['Datetime'].str[:-6]\n",
    "df['Date']=pd.to_datetime(df[\"Date\"]).dt.strftime(\"%Y-%m-%d %H:%M:%S\")"
   ]
  },
  {
   "cell_type": "code",
   "execution_count": 3,
   "metadata": {},
   "outputs": [],
   "source": [
    "data_date = df.filter(['Date'])\n",
    "\n",
    "data_date = data_date.values\n",
    "# Get the number of rows to train the model on\n",
    "training_data_date = int(np.ceil( len(data_date) * .95 ))\n",
    "train_data_date = data_date[0:int(training_data_date), :]"
   ]
  },
  {
   "cell_type": "code",
   "execution_count": 4,
   "metadata": {},
   "outputs": [],
   "source": [
    "import tensorflow.keras.layers\n",
    "from tensorflow.keras.models import Sequential\n",
    "from tensorflow.keras.layers import Dense, LSTM\n",
    "from tensorflow.keras.optimizers import Adam\n",
    "from tensorflow.keras.layers import Conv1D\n",
    "from tensorflow.keras.layers import MaxPooling1D\n",
    "from tensorflow.keras.layers import Bidirectional\n",
    "from tensorflow.keras.layers import Dense, Input, Embedding, Dropout, Activation, Conv1D\n",
    "from tensorflow.keras.layers import Dense, Input, RNN\n",
    "from tensorflow.keras.models import Model, Sequential, load_model\n",
    "from tensorflow.keras import backend as K\n",
    "from tensorflow.keras.optimizers import Adam\n",
    "\n",
    "import math\n",
    "from sklearn.preprocessing import MinMaxScaler\n",
    "from sklearn.metrics import mean_squared_error"
   ]
  },
  {
   "cell_type": "code",
   "execution_count": 5,
   "metadata": {},
   "outputs": [
    {
     "name": "stdout",
     "output_type": "stream",
     "text": [
      "2.8.0\n"
     ]
    }
   ],
   "source": [
    "\n",
    "import tensorflow as tf\n",
    "print(tf.__version__)"
   ]
  },
  {
   "cell_type": "code",
   "execution_count": 6,
   "metadata": {},
   "outputs": [
    {
     "name": "stdout",
     "output_type": "stream",
     "text": [
      "Datetime     0\n",
      "Open         0\n",
      "High         0\n",
      "Low          0\n",
      "Close        0\n",
      "Adj Close    0\n",
      "Volume       0\n",
      "Date         0\n",
      "dtype: int64\n"
     ]
    }
   ],
   "source": [
    "data = pd.DataFrame()\n",
    "data['Close']=df['Close']\n",
    "count_nan = len(df) - df.count()\n",
    "print(count_nan)"
   ]
  },
  {
   "cell_type": "code",
   "execution_count": 7,
   "metadata": {},
   "outputs": [],
   "source": [
    "#Converting the dataframe to a numpy array\n",
    "dataset = data.values\n",
    "#Get /Compute the number of rows to train the model on\n",
    "# training_data_len = math.ceil( len(dataset) *.6)\n",
    "training_data_len = math.ceil( len(dataset)*.95) \n",
    "\n",
    "\n",
    "\n",
    "#Scale the all of the data to be values between 0 and 1 \n",
    "scaler = MinMaxScaler(feature_range=(0, 1)) \n",
    "scaled_data = scaler.fit_transform(dataset)\n",
    "\n",
    "\n",
    "#Create the scaled training data set \n",
    "train_data = scaled_data[0:training_data_len  , : ]\n",
    "#Split the data into x_train and y_train data sets\n",
    "x_train=[]\n",
    "y_train = []\n",
    "for i in range(60,len(train_data)):\n",
    "    x_train.append(train_data[i-60:i,0])\n",
    "    y_train.append(train_data[i,0])\n",
    "\n",
    "\n",
    "#Convert x_train and y_train to numpy arrays\n",
    "x_train, y_train = np.array(x_train), np.array(y_train)    \n",
    "\n",
    "\n",
    "#Reshape the data into the shape accepted by the LSTM\n",
    "x_train = np.reshape(x_train, (x_train.shape[0],x_train.shape[1],1))"
   ]
  },
  {
   "cell_type": "code",
   "execution_count": 8,
   "metadata": {},
   "outputs": [],
   "source": [
    "#Test data set\n",
    "test_data = scaled_data[training_data_len - 60: , : ]\n",
    "#Create the x_test and y_test data sets\n",
    "x_test = []\n",
    "y_test =  dataset[training_data_len : , : ] \n",
    "for i in range(60,len(test_data)):\n",
    "    x_test.append(test_data[i-60:i,0])\n",
    "\n",
    "\n",
    "\n",
    "#Convert x_test to a numpy array \n",
    "x_test = np.array(x_test)\n",
    "\n",
    "#Reshape the data into the shape accepted by the LSTM\n",
    "x_test = np.reshape(x_test, (x_test.shape[0],x_test.shape[1],1))"
   ]
  },
  {
   "cell_type": "code",
   "execution_count": 9,
   "metadata": {},
   "outputs": [],
   "source": [
    "dataDimension = int(x_train.shape[1]) "
   ]
  },
  {
   "cell_type": "code",
   "execution_count": 10,
   "metadata": {},
   "outputs": [
    {
     "data": {
      "text/plain": [
       "True"
      ]
     },
     "execution_count": 10,
     "metadata": {},
     "output_type": "execute_result"
    }
   ],
   "source": [
    "cell = \"FastRNN\" \n",
    " \n",
    "inputDims = 1 #features taken in by RNN in one timestep\n",
    "hiddenDims = 50 #hidden state of RNN\n",
    " \n",
    "totalEpochs = 8\n",
    "batchSize = 64\n",
    " \n",
    "learningRate = 0.001 \n",
    "decayStep = 50\n",
    "decayRate = 0.1\n",
    " \n",
    "outFile = None\n",
    " \n",
    "\n",
    "wRank = None \n",
    "uRank = None \n",
    " \n",
    "\n",
    "sW = 1.0 \n",
    "sU = 1.0\n",
    " \n",
    "#Non-linearities for the RNN architecture. Can choose from \"tanh, sigmoid, relu, quantTanh, quantSigm\"\n",
    "update_non_linearity = \"relu\"\n",
    "gate_non_linearity = \"relu\"\n",
    "\n",
    "\n",
    "cell == \"FastRNN\""
   ]
  },
  {
   "cell_type": "code",
   "execution_count": 11,
   "metadata": {},
   "outputs": [
    {
     "name": "stdout",
     "output_type": "stream",
     "text": [
      "(6594, 60, 1)\n",
      "(350, 60, 1)\n",
      "(6594, 60, 1)\n",
      "(350, 60, 1)\n"
     ]
    }
   ],
   "source": [
    "print(x_train.shape)\n",
    "x_train = np.reshape(x_train,[x_train.shape[0],x_train.shape[1],1])\n",
    "print(x_test.shape)\n",
    "x_test = np.reshape(x_test,[x_test.shape[0],x_test.shape[1],1])\n",
    "print(x_train.shape)\n",
    "print(x_test.shape)"
   ]
  },
  {
   "cell_type": "code",
   "execution_count": 14,
   "metadata": {},
   "outputs": [
    {
     "name": "stdout",
     "output_type": "stream",
     "text": [
      "Epoch 1/100\n",
      "104/104 [==============================] - 18s 112ms/step - loss: 0.0125\n",
      "Epoch 2/100\n",
      "104/104 [==============================] - 15s 143ms/step - loss: 1.9698e-04\n",
      "Epoch 3/100\n",
      "104/104 [==============================] - 15s 141ms/step - loss: 1.4592e-04\n",
      "Epoch 4/100\n",
      "104/104 [==============================] - 19s 187ms/step - loss: 1.1404e-04\n",
      "Epoch 5/100\n",
      "104/104 [==============================] - 23s 224ms/step - loss: 1.2732e-04\n",
      "Epoch 6/100\n",
      "104/104 [==============================] - 32s 312ms/step - loss: 9.8557e-05\n",
      "Epoch 7/100\n",
      "104/104 [==============================] - 30s 291ms/step - loss: 9.6686e-05\n",
      "Epoch 8/100\n",
      "104/104 [==============================] - 26s 255ms/step - loss: 9.5694e-05\n",
      "Epoch 9/100\n",
      "104/104 [==============================] - 28s 266ms/step - loss: 9.2246e-05\n",
      "Epoch 10/100\n",
      "104/104 [==============================] - 29s 275ms/step - loss: 6.8722e-05\n",
      "Epoch 11/100\n",
      "104/104 [==============================] - 28s 272ms/step - loss: 6.8462e-05\n",
      "Epoch 12/100\n",
      "104/104 [==============================] - 27s 264ms/step - loss: 8.7392e-05\n",
      "Epoch 13/100\n",
      "104/104 [==============================] - 26s 247ms/step - loss: 7.1292e-05\n",
      "Epoch 14/100\n",
      "104/104 [==============================] - 31s 296ms/step - loss: 6.7639e-05\n",
      "Epoch 15/100\n",
      "104/104 [==============================] - 32s 305ms/step - loss: 8.8028e-05\n",
      "Epoch 16/100\n",
      "104/104 [==============================] - 28s 272ms/step - loss: 5.6613e-05\n",
      "Epoch 17/100\n",
      "104/104 [==============================] - 27s 257ms/step - loss: 5.9601e-05\n",
      "Epoch 18/100\n",
      "104/104 [==============================] - 30s 281ms/step - loss: 6.1042e-05\n",
      "Epoch 19/100\n",
      "104/104 [==============================] - 29s 276ms/step - loss: 5.0141e-05\n",
      "Epoch 20/100\n",
      "104/104 [==============================] - 29s 278ms/step - loss: 7.7833e-05\n",
      "Epoch 21/100\n",
      "104/104 [==============================] - 27s 264ms/step - loss: 5.1953e-05\n",
      "Epoch 22/100\n",
      "104/104 [==============================] - 25s 242ms/step - loss: 4.4400e-05\n",
      "Epoch 23/100\n",
      "104/104 [==============================] - 28s 268ms/step - loss: 6.1789e-05\n",
      "Epoch 24/100\n",
      "104/104 [==============================] - 28s 273ms/step - loss: 7.7359e-05\n",
      "Epoch 25/100\n",
      "104/104 [==============================] - 25s 238ms/step - loss: 9.0530e-05\n",
      "Epoch 26/100\n",
      "104/104 [==============================] - 28s 273ms/step - loss: 5.8170e-05\n",
      "Epoch 27/100\n",
      "104/104 [==============================] - 26s 248ms/step - loss: 6.6455e-05\n",
      "Epoch 28/100\n",
      "104/104 [==============================] - 30s 291ms/step - loss: 5.5959e-05\n",
      "Epoch 29/100\n",
      "104/104 [==============================] - 27s 259ms/step - loss: 8.0261e-05\n",
      "Epoch 30/100\n",
      "104/104 [==============================] - 28s 270ms/step - loss: 5.2409e-04\n",
      "Epoch 31/100\n",
      "104/104 [==============================] - 28s 267ms/step - loss: 6.4645e-05\n",
      "Epoch 32/100\n",
      "104/104 [==============================] - 24s 233ms/step - loss: 5.2642e-05\n",
      "Epoch 33/100\n",
      "104/104 [==============================] - 25s 239ms/step - loss: 5.9720e-05\n",
      "Epoch 34/100\n",
      "104/104 [==============================] - 18s 170ms/step - loss: 5.9394e-05\n",
      "Epoch 35/100\n",
      "104/104 [==============================] - 18s 169ms/step - loss: 5.4819e-05\n",
      "Epoch 36/100\n",
      "104/104 [==============================] - 17s 160ms/step - loss: 5.4076e-05\n",
      "Epoch 37/100\n",
      "104/104 [==============================] - 16s 150ms/step - loss: 5.8169e-05\n",
      "Epoch 38/100\n",
      "104/104 [==============================] - 17s 159ms/step - loss: 5.3171e-05\n",
      "Epoch 39/100\n",
      "104/104 [==============================] - 16s 155ms/step - loss: 4.8740e-05\n",
      "Epoch 40/100\n",
      "104/104 [==============================] - 16s 150ms/step - loss: 4.3310e-05\n",
      "Epoch 41/100\n",
      "104/104 [==============================] - 16s 149ms/step - loss: 4.1810e-05\n",
      "Epoch 42/100\n",
      "104/104 [==============================] - 16s 153ms/step - loss: 4.9766e-05\n",
      "Epoch 43/100\n",
      "104/104 [==============================] - 16s 153ms/step - loss: 5.0617e-05\n",
      "Epoch 44/100\n",
      "104/104 [==============================] - 16s 152ms/step - loss: 6.1602e-05\n",
      "Epoch 45/100\n",
      "104/104 [==============================] - 15s 147ms/step - loss: 8.3718e-05\n",
      "Epoch 46/100\n",
      "104/104 [==============================] - 17s 161ms/step - loss: 5.5048e-05\n",
      "Epoch 47/100\n",
      "104/104 [==============================] - 17s 164ms/step - loss: 5.8607e-05\n",
      "Epoch 48/100\n",
      "104/104 [==============================] - 17s 166ms/step - loss: 5.1524e-05\n",
      "Epoch 49/100\n",
      "104/104 [==============================] - 18s 176ms/step - loss: 4.1115e-05\n",
      "Epoch 50/100\n",
      "104/104 [==============================] - 19s 185ms/step - loss: 6.3860e-05\n",
      "Epoch 51/100\n",
      "104/104 [==============================] - 24s 233ms/step - loss: 4.3449e-05\n",
      "Epoch 52/100\n",
      "104/104 [==============================] - 20s 188ms/step - loss: 4.0796e-05\n",
      "Epoch 53/100\n",
      "104/104 [==============================] - 20s 195ms/step - loss: 3.8883e-05\n",
      "Epoch 54/100\n",
      "104/104 [==============================] - 25s 237ms/step - loss: 5.9445e-05\n",
      "Epoch 55/100\n",
      "104/104 [==============================] - 20s 195ms/step - loss: 5.0950e-05\n",
      "Epoch 56/100\n",
      "104/104 [==============================] - 20s 189ms/step - loss: 4.7886e-05\n",
      "Epoch 57/100\n",
      "104/104 [==============================] - 25s 241ms/step - loss: 3.6925e-05\n",
      "Epoch 58/100\n",
      "104/104 [==============================] - 19s 186ms/step - loss: 4.9287e-05\n",
      "Epoch 59/100\n",
      "104/104 [==============================] - 19s 180ms/step - loss: 6.8838e-05\n",
      "Epoch 60/100\n",
      "104/104 [==============================] - 22s 217ms/step - loss: 5.7533e-05\n",
      "Epoch 61/100\n",
      "104/104 [==============================] - 19s 186ms/step - loss: 4.3164e-05\n",
      "Epoch 62/100\n",
      "104/104 [==============================] - 25s 237ms/step - loss: 3.5013e-05\n",
      "Epoch 63/100\n",
      "104/104 [==============================] - 23s 221ms/step - loss: 4.0091e-05\n",
      "Epoch 64/100\n",
      "104/104 [==============================] - 30s 285ms/step - loss: 3.6283e-05\n",
      "Epoch 65/100\n",
      "104/104 [==============================] - 29s 278ms/step - loss: 3.5445e-05\n",
      "Epoch 66/100\n",
      "104/104 [==============================] - 25s 239ms/step - loss: 4.8322e-05\n",
      "Epoch 67/100\n",
      "104/104 [==============================] - 29s 284ms/step - loss: 3.7334e-05\n",
      "Epoch 68/100\n",
      "104/104 [==============================] - 30s 285ms/step - loss: 3.2891e-05\n",
      "Epoch 69/100\n",
      "104/104 [==============================] - 31s 296ms/step - loss: 3.3099e-05\n",
      "Epoch 70/100\n",
      "104/104 [==============================] - 26s 249ms/step - loss: 6.1566e-05\n",
      "Epoch 71/100\n",
      "104/104 [==============================] - 29s 274ms/step - loss: 3.4827e-05\n",
      "Epoch 72/100\n",
      "104/104 [==============================] - 32s 309ms/step - loss: 6.4781e-05\n",
      "Epoch 73/100\n",
      "104/104 [==============================] - 31s 297ms/step - loss: 4.8925e-05\n",
      "Epoch 74/100\n",
      "104/104 [==============================] - 31s 298ms/step - loss: 3.4760e-05\n",
      "Epoch 75/100\n",
      "104/104 [==============================] - 32s 313ms/step - loss: 3.6712e-05\n",
      "Epoch 76/100\n",
      "104/104 [==============================] - 35s 338ms/step - loss: 3.3287e-05\n",
      "Epoch 77/100\n",
      "104/104 [==============================] - 37s 354ms/step - loss: 4.6911e-05\n",
      "Epoch 78/100\n",
      "104/104 [==============================] - 44s 422ms/step - loss: 3.9242e-05\n",
      "Epoch 79/100\n",
      "104/104 [==============================] - 43s 413ms/step - loss: 3.6576e-05\n",
      "Epoch 80/100\n",
      "104/104 [==============================] - 43s 407ms/step - loss: 7.4505e-05\n",
      "Epoch 81/100\n",
      "104/104 [==============================] - 47s 456ms/step - loss: 2.8448e-05\n",
      "Epoch 82/100\n",
      "104/104 [==============================] - 43s 419ms/step - loss: 3.2580e-05\n",
      "Epoch 83/100\n",
      "104/104 [==============================] - 52s 497ms/step - loss: 4.3920e-05\n",
      "Epoch 84/100\n",
      "104/104 [==============================] - 49s 470ms/step - loss: 4.5606e-05\n",
      "Epoch 85/100\n",
      "104/104 [==============================] - 37s 360ms/step - loss: 2.4909e-05\n",
      "Epoch 86/100\n",
      "104/104 [==============================] - 47s 456ms/step - loss: 3.6265e-05\n",
      "Epoch 87/100\n",
      "104/104 [==============================] - 48s 462ms/step - loss: 2.9144e-05\n",
      "Epoch 88/100\n",
      "104/104 [==============================] - 45s 434ms/step - loss: 4.5669e-05\n",
      "Epoch 89/100\n",
      "104/104 [==============================] - 48s 455ms/step - loss: 2.8319e-05\n",
      "Epoch 90/100\n",
      "104/104 [==============================] - 41s 390ms/step - loss: 3.3123e-05\n",
      "Epoch 91/100\n",
      "104/104 [==============================] - 45s 431ms/step - loss: 4.1687e-05\n",
      "Epoch 92/100\n"
     ]
    },
    {
     "name": "stdout",
     "output_type": "stream",
     "text": [
      "104/104 [==============================] - 46s 443ms/step - loss: 4.2981e-05\n",
      "Epoch 93/100\n",
      "104/104 [==============================] - 52s 506ms/step - loss: 3.9913e-05\n",
      "Epoch 94/100\n",
      "104/104 [==============================] - 57s 547ms/step - loss: 2.7760e-05\n",
      "Epoch 95/100\n",
      "104/104 [==============================] - 48s 461ms/step - loss: 3.0584e-05\n",
      "Epoch 96/100\n",
      "104/104 [==============================] - 47s 458ms/step - loss: 4.6113e-05\n",
      "Epoch 97/100\n",
      "104/104 [==============================] - 47s 453ms/step - loss: 2.4998e-05\n",
      "Epoch 98/100\n",
      "104/104 [==============================] - 48s 464ms/step - loss: 2.6643e-05\n",
      "Epoch 99/100\n",
      "104/104 [==============================] - 47s 451ms/step - loss: 3.3930e-05\n",
      "Epoch 100/100\n",
      "104/104 [==============================] - 47s 450ms/step - loss: 5.1014e-05\n"
     ]
    },
    {
     "data": {
      "image/png": "[encoded data removed]",
      "text/plain": [
       "<Figure size 432x288 with 1 Axes>"
      ]
     },
     "metadata": {
      "needs_background": "light"
     },
     "output_type": "display_data"
    }
   ],
   "source": [
    "from keras.models import Sequential\n",
    "from keras.layers import Dense\n",
    "from keras.layers import SimpleRNN\n",
    "from keras.layers import Dropout\n",
    "import matplotlib.pyplot as plt\n",
    "\n",
    "#Initialize RNN:\n",
    "regressor = Sequential()\n",
    "\n",
    "#Adding the first RNN layer and some Dropout regularization\n",
    "regressor.add(SimpleRNN(units = 50, activation='tanh', return_sequences=True, input_shape= (x_train.shape[1],1)))\n",
    "regressor.add(Conv1D(filters=300, kernel_size=3 , padding='same', activation='relu', name='Conv1D'))\n",
    "regressor.add(MaxPooling1D(pool_size=1,name='MaxPooling1D'))\n",
    "\n",
    "\n",
    "#Adding the second RNN layer and some Dropout regularization\n",
    "regressor.add(Bidirectional(LSTM(units=50, return_sequences=False)))\n",
    "regressor.add(Dense(1))\n",
    "# Compile the model\n",
    "regressor.compile(optimizer='adam', loss='mean_squared_error')\n",
    "\n",
    "# Train the model\n",
    "history = regressor.fit(x_train, y_train, batch_size=64, epochs=100)\n",
    "\n",
    "# Get training and test loss histories\n",
    "training_loss = history.history['loss']\n",
    "# Create count of the number of epochs\n",
    "epoch_count = range(1, len(training_loss) + 1)\n",
    "\n",
    "# Visualize loss history\n",
    "plt.plot(epoch_count, training_loss, 'r--')\n",
    "plt.legend(['Training Loss'])\n",
    "plt.xlabel('Epoch')\n",
    "plt.ylabel('Loss')\n",
    "plt.show();\n"
   ]
  },
  {
   "cell_type": "code",
   "execution_count": null,
   "metadata": {},
   "outputs": [],
   "source": []
  },
  {
   "cell_type": "code",
   "execution_count": 17,
   "metadata": {},
   "outputs": [
    {
     "data": {
      "text/plain": [
       "0.13393575503771493"
      ]
     },
     "execution_count": 17,
     "metadata": {},
     "output_type": "execute_result"
    }
   ],
   "source": [
    "# Get the models predicted price values \n",
    "predictions = regressor.predict(x_test)\n",
    "predictions = scaler.inverse_transform(predictions)\n",
    "\n",
    "# Get the root mean squared error (RMSE)\n",
    "rmse = np.sqrt(np.mean(((predictions - y_test) ** 2)))\n",
    "rmse\n"
   ]
  },
  {
   "cell_type": "code",
   "execution_count": 18,
   "metadata": {},
   "outputs": [
    {
     "name": "stderr",
     "output_type": "stream",
     "text": [
      "<ipython-input-18-e67ee0326cb9>:7: SettingWithCopyWarning: \n",
      "A value is trying to be set on a copy of a slice from a DataFrame.\n",
      "Try using .loc[row_indexer,col_indexer] = value instead\n",
      "\n",
      "See the caveats in the documentation: https://pandas.pydata.org/pandas-docs/stable/user_guide/indexing.html#returning-a-view-versus-a-copy\n",
      "  valid_3['Predictions'] = predictions\n"
     ]
    },
    {
     "data": {
      "text/plain": [
       "0.11955819390986352"
      ]
     },
     "execution_count": 18,
     "metadata": {},
     "output_type": "execute_result"
    }
   ],
   "source": [
    "def mape(actual, pred): \n",
    "    actual, pred = np.array(actual), np.array(pred)\n",
    "    return np.mean(np.abs((actual - pred) / actual)) * 100\n",
    "\n",
    "train = data[:training_data_len]\n",
    "valid_3 = data[training_data_len:]\n",
    "valid_3['Predictions'] = predictions\n",
    "\n",
    "mape(valid_3['Close'], valid_3['Predictions'])"
   ]
  },
  {
   "cell_type": "code",
   "execution_count": 19,
   "metadata": {},
   "outputs": [
    {
     "data": {
      "image/png": "[encoded data removed]",
      "text/plain": [
       "<Figure size 1152x432 with 1 Axes>"
      ]
     },
     "metadata": {
      "needs_background": "light"
     },
     "output_type": "display_data"
    }
   ],
   "source": [
    "import matplotlib.pyplot as plt\n",
    "plt.figure(figsize=(16,6))\n",
    "plt.title('Predicted Model - Apple')\n",
    "plt.xlabel('Index', fontsize=18)\n",
    "plt.ylabel('Close Price ($)', fontsize=18)\n",
    "#plt.plot(train['Close'], 'b-', label = 'train')\n",
    "plt.plot(predictions,'r-', label = 'predict')\n",
    "plt.plot(y_test,'b-', label = 'actual')\n",
    "#plt.legend(['Train', 'Val', 'Predictions'], loc='lower right')\n",
    "plt.show()"
   ]
  },
  {
   "cell_type": "code",
   "execution_count": null,
   "metadata": {},
   "outputs": [],
   "source": []
  }
 ],
 "metadata": {
  "kernelspec": {
   "display_name": "Python 3",
   "language": "python",
   "name": "python3"
  },
  "language_info": {
   "codemirror_mode": {
    "name": "ipython",
    "version": 3
   },
   "file_extension": ".py",
   "mimetype": "text/x-python",
   "name": "python",
   "nbconvert_exporter": "python",
   "pygments_lexer": "ipython3",
   "version": "3.8.5"
  }
 },
 "nbformat": 4,
 "nbformat_minor": 4
}
